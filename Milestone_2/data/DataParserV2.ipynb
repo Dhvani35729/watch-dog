{
 "cells": [
  {
   "cell_type": "code",
   "execution_count": 80,
   "metadata": {},
   "outputs": [],
   "source": [
    "#As seen from the results below, this table is unwieldy and difficult to use for our requirments. \n",
    "#Therefore, this script/notebook contains scripts to convert the source data into a form we like and as described in our reports.\n",
    "#The data we get from this notebook is used to populate our database"
   ]
  },
  {
   "cell_type": "code",
   "execution_count": 81,
   "metadata": {},
   "outputs": [],
   "source": [
    "import pandas as pd\n",
    "import datetime\n",
    "import numpy as np"
   ]
  },
  {
   "cell_type": "code",
   "execution_count": 82,
   "metadata": {},
   "outputs": [],
   "source": [
    "crime = pd.read_csv('sourcedata/major_crime.csv')\n",
    "bicycleThefts = pd.read_csv('sourcedata/Bicycle_Thefts.csv')"
   ]
  },
  {
   "cell_type": "code",
   "execution_count": 83,
   "metadata": {},
   "outputs": [
    {
     "name": "stdout",
     "output_type": "stream",
     "text": [
      "                 X             Y    Index_      ACCNUM  YEAR  \\\n",
      "0    -8.843197e+06  5.411506e+06   3436138      910787  2006   \n",
      "1    -8.843197e+06  5.411506e+06   3436139      910787  2006   \n",
      "2    -8.843197e+06  5.411506e+06   3436140      910787  2006   \n",
      "3    -8.843197e+06  5.411506e+06   3436141      910787  2006   \n",
      "4    -8.833779e+06  5.412260e+06   3381375      890220  2006   \n",
      "...            ...           ...       ...         ...   ...   \n",
      "8301 -8.846548e+06  5.409470e+06  81329707  9001466378  2019   \n",
      "8302 -8.846548e+06  5.409470e+06  81329708  9001466378  2019   \n",
      "8303 -8.846548e+06  5.409470e+06  81329709  9001466378  2019   \n",
      "8304 -8.834868e+06  5.412504e+06  81329639  9001473932  2019   \n",
      "8305 -8.834868e+06  5.412504e+06  81329640  9001473932  2019   \n",
      "\n",
      "                        DATE  TIME  HOUR        STREET1  \\\n",
      "0     2006/02/26 05:00:00+00   117     1  LANSDOWNE AVE   \n",
      "1     2006/02/26 05:00:00+00   117     1  LANSDOWNE AVE   \n",
      "2     2006/02/26 05:00:00+00   117     1  LANSDOWNE AVE   \n",
      "3     2006/02/26 05:00:00+00   117     1  LANSDOWNE AVE   \n",
      "4     2006/02/26 05:00:00+00   430     4  ADELAIDE ST E   \n",
      "...                      ...   ...   ...            ...   \n",
      "8301  2019/08/03 04:00:00+00  2027    20  WINDERMIRE AV   \n",
      "8302  2019/08/03 04:00:00+00  2027    20  WINDERMIRE AV   \n",
      "8303  2019/08/03 04:00:00+00  2027    20  WINDERMIRE AV   \n",
      "8304  2019/08/05 04:00:00+00    41     4  PARLIAMENT ST   \n",
      "8305  2019/08/05 04:00:00+00    41     4  PARLIAMENT ST   \n",
      "\n",
      "                    STREET2  ... EMERG_VEH PASSENGER SPEEDING  AG_DRIV  \\\n",
      "0               DUNDAS ST W  ...       NaN       Yes      Yes      Yes   \n",
      "1               DUNDAS ST W  ...       NaN       Yes      Yes      Yes   \n",
      "2               DUNDAS ST W  ...       NaN       Yes      Yes      Yes   \n",
      "3               DUNDAS ST W  ...       NaN       Yes      Yes      Yes   \n",
      "4     EASTERN DIVERSION AVE  ...       NaN       Yes      Yes      Yes   \n",
      "...                     ...  ...       ...       ...      ...      ...   \n",
      "8301          THE QUEENSWAY  ...       NaN       Yes      Yes      Yes   \n",
      "8302          THE QUEENSWAY  ...       NaN       Yes      Yes      Yes   \n",
      "8303          THE QUEENSWAY  ...       NaN       Yes      Yes      Yes   \n",
      "8304              SHUTER ST  ...       NaN       Yes      Yes      Yes   \n",
      "8305              SHUTER ST  ...       NaN       Yes      Yes      Yes   \n",
      "\n",
      "      REDLIGHT  ALCOHOL  DISABILITY Hood_ID           Neighbourhood ObjectId  \n",
      "0          NaN      NaN         NaN      83     Dufferin Grove (83)        1  \n",
      "1          NaN      NaN         NaN      83     Dufferin Grove (83)        2  \n",
      "2          NaN      NaN         NaN      83     Dufferin Grove (83)        3  \n",
      "3          NaN      NaN         NaN      83     Dufferin Grove (83)        4  \n",
      "4          NaN      NaN         NaN      73          Moss Park (73)        5  \n",
      "...        ...      ...         ...     ...                     ...      ...  \n",
      "8301       NaN      NaN         NaN      87  High Park-Swansea (87)     8302  \n",
      "8302       NaN      NaN         NaN      87  High Park-Swansea (87)     8303  \n",
      "8303       NaN      NaN         NaN      87  High Park-Swansea (87)     8304  \n",
      "8304       Yes      NaN         NaN      72        Regent Park (72)     8305  \n",
      "8305       Yes      NaN         NaN      72        Regent Park (72)     8306  \n",
      "\n",
      "[8306 rows x 56 columns]\n"
     ]
    },
    {
     "data": {
      "text/plain": [
       "['X',\n",
       " 'Y',\n",
       " 'Index_',\n",
       " 'ACCNUM',\n",
       " 'YEAR',\n",
       " 'DATE',\n",
       " 'TIME',\n",
       " 'HOUR',\n",
       " 'STREET1',\n",
       " 'STREET2',\n",
       " 'OFFSET',\n",
       " 'ROAD_CLASS',\n",
       " 'District',\n",
       " 'WardNum',\n",
       " 'Division',\n",
       " 'LATITUDE',\n",
       " 'LONGITUDE',\n",
       " 'LOCCOORD',\n",
       " 'ACCLOC',\n",
       " 'TRAFFCTL',\n",
       " 'VISIBILITY',\n",
       " 'LIGHT',\n",
       " 'RDSFCOND',\n",
       " 'ACCLASS',\n",
       " 'IMPACTYPE',\n",
       " 'INVTYPE',\n",
       " 'INVAGE',\n",
       " 'INJURY',\n",
       " 'FATAL_NO',\n",
       " 'INITDIR',\n",
       " 'VEHTYPE',\n",
       " 'MANOEUVER',\n",
       " 'DRIVACT',\n",
       " 'DRIVCOND',\n",
       " 'PEDTYPE',\n",
       " 'PEDACT',\n",
       " 'PEDCOND',\n",
       " 'CYCLISTYPE',\n",
       " 'CYCACT',\n",
       " 'CYCCOND',\n",
       " 'PEDESTRIAN',\n",
       " 'CYCLIST',\n",
       " 'AUTOMOBILE',\n",
       " 'MOTORCYCLE',\n",
       " 'TRUCK',\n",
       " 'TRSN_CITY_VEH',\n",
       " 'EMERG_VEH',\n",
       " 'PASSENGER',\n",
       " 'SPEEDING',\n",
       " 'AG_DRIV',\n",
       " 'REDLIGHT',\n",
       " 'ALCOHOL',\n",
       " 'DISABILITY',\n",
       " 'Hood_ID',\n",
       " 'Neighbourhood',\n",
       " 'ObjectId']"
      ]
     },
     "execution_count": 83,
     "metadata": {},
     "output_type": "execute_result"
    }
   ],
   "source": [
    "#Traffic Data here-\n",
    "trafficall = pd.read_csv('sourcedata/Aggressive_Driving.csv')\n",
    "trafficall.columns.tolist()\n",
    "print(trafficall)\n",
    "Alcohol_Related = pd.read_csv('sourcedata/Alcohol_Related.csv')\n",
    "Alcohol_Related.columns.tolist()\n",
    "Automobile = pd.read_csv('sourcedata/Automobile.csv')\n",
    "Automobile.columns.tolist()\n",
    "Cyclists = pd.read_csv('sourcedata/Cyclists.csv')\n",
    "Cyclists.columns.tolist()\n",
    "Emergency_vehicles = pd.read_csv('sourcedata/Emergency_vehicles.csv')\n",
    "Emergency_vehicles.columns.tolist()\n",
    "Passenger = pd.read_csv('sourcedata/Passenger.csv')\n",
    "Passenger.columns.tolist()\n",
    "Pedestrians = pd.read_csv('sourcedata/Pedestrians.csv')\n",
    "Pedestrians.columns.tolist()\n",
    "Physical_Medical_Disability = pd.read_csv('sourcedata/Physical_Medical_Disability.csv')\n",
    "Physical_Medical_Disability.columns.tolist()\n",
    "Red_Light = pd.read_csv('sourcedata/Red_Light.csv')\n",
    "Red_Light.columns.tolist()\n",
    "Speeding = pd.read_csv('sourcedata/Speeding.csv')\n",
    "Speeding.columns.tolist()\n",
    "Truck = pd.read_csv('sourcedata/Truck.csv')\n",
    "Truck.columns.tolist()\n",
    "TTC_Municipal_Vehicle = pd.read_csv('sourcedata/TTC_Municipal_Vehicle.csv')\n",
    "TTC_Municipal_Vehicle.columns.tolist()"
   ]
  },
  {
   "cell_type": "code",
   "execution_count": 84,
   "metadata": {},
   "outputs": [],
   "source": [
    "trafficall = trafficall.append(Alcohol_Related)\n",
    "trafficall = trafficall.append(Automobile)\n",
    "trafficall = trafficall.append(Cyclists)\n",
    "trafficall = trafficall.append(Emergency_vehicles)\n",
    "trafficall = trafficall.append(Passenger,sort=True)\n",
    "trafficall = trafficall.append(Pedestrians,sort=True)\n",
    "trafficall = trafficall.append(Physical_Medical_Disability,sort=True)\n",
    "trafficall = trafficall.append(Red_Light,sort=True)\n",
    "trafficall = trafficall.append(Speeding,sort=True)\n",
    "trafficall = trafficall.append(Truck,sort=True)\n",
    "trafficall = trafficall.append(TTC_Municipal_Vehicle,sort=True)\n",
    "trafficall.drop_duplicates(inplace=True)\n",
    "trafficall.to_csv(\"trafficAll2.csv\")"
   ]
  },
  {
   "cell_type": "code",
   "execution_count": 85,
   "metadata": {},
   "outputs": [
    {
     "name": "stdout",
     "output_type": "stream",
     "text": [
      "['occurrencehour', 'occurrenceday', 'occurrencemonth', 'occurrenceyear', 'occurrencedayofweek', 'reportedhour', 'reportedday', 'reportedmonth', 'reportedyear', 'reporteddayofweek']\n",
      "['Occurrence_Time', 'Occurrence_Day', 'Occurrence_Month', 'Occurrence_Year']\n",
      "['ACCNUM', 'DATE', 'ROAD_CLASS', 'TRAFFCTL', 'VISIBILITY', 'RDSFCOND', 'Hood_ID', 'LATITUDE', 'LONGITUDE', 'INVTYPE', 'INJURY', 'VEHTYPE', 'MANOEUVER']\n"
     ]
    }
   ],
   "source": [
    "#Set the tables to be their relevant columns only\n",
    "crime = crime[crime['occurrenceday'].notna()]\n",
    "crime = crime[crime['reportedday'].notna()]\n",
    "crime = crime[['occurrencehour', 'occurrenceday', 'occurrencemonth', 'occurrenceyear', 'occurrencedayofweek', 'reportedhour', 'reportedday', 'reportedmonth', 'reportedyear', 'reporteddayofweek']]\n",
    "bicycleThefts = bicycleThefts[['Occurrence_Time', 'Occurrence_Day', 'Occurrence_Month', 'Occurrence_Year']]\n",
    "trafficall = trafficall[['ACCNUM', 'DATE', 'ROAD_CLASS', 'TRAFFCTL', 'VISIBILITY', 'RDSFCOND', 'Hood_ID','LATITUDE', 'LONGITUDE' , 'INVTYPE', 'INJURY', 'VEHTYPE', 'MANOEUVER']]\n",
    "print(crime.columns.tolist())\n",
    "print(bicycleThefts.columns.tolist())\n",
    "print(trafficall.columns.tolist())"
   ]
  },
  {
   "cell_type": "code",
   "execution_count": 86,
   "metadata": {},
   "outputs": [],
   "source": [
    "# IncidentTime Table\n",
    "def dayofweek(day, month, year):\n",
    "    i = \"%s-%s-%s\" % (year, month, day)\n",
    "    df = pd.Timestamp(i)\n",
    "    return (df.dayofweek+1)%7+1\n",
    "\n",
    "months = {\"January\": 1, \"February\": 2, \"March\": 3, \"April\": 4, \"May\": 5, \"June\": 6, \"July\": 7, \"August\": 8, \"September\": 9, \"October\": 10, \"November\": 11, \"December\": 12}\n",
    "daysofweek = {\"Sunday\": 1, \"Monday\": 2, \"Tuesday\": 3, \"Wednesday\": 4, \"Thursday\": 5, \"Friday\": 6, \"Saturday\": 7}"
   ]
  },
  {
   "cell_type": "code",
   "execution_count": 87,
   "metadata": {},
   "outputs": [
    {
     "name": "stdout",
     "output_type": "stream",
     "text": [
      "      hour  day  month  year  dayofweek\n",
      "0       16   10      5  2014          7\n",
      "1       18   11      5  2014          1\n",
      "3       19   11      5  2014          1\n",
      "5       08    9      5  2014          6\n",
      "6       02   11      5  2014          1\n",
      "...    ...  ...    ...   ...        ...\n",
      "21576   21   14     10  2019          2\n",
      "21580   07   10     10  2019          5\n",
      "21581   11   12     10  2019          7\n",
      "21582   22    1      9  2019          1\n",
      "21583   10   15     10  2019          3\n",
      "\n",
      "[14465 rows x 5 columns]\n"
     ]
    }
   ],
   "source": [
    "# Get the time from Bicycle Thefts in the right form\n",
    "\n",
    "bicycleThefts.rename(columns={\"Occurrence_Time\": \"hour\", \"Occurrence_Day\": \"day\", \"Occurrence_Month\": \"month\", \"Occurrence_Year\": \"year\"}, inplace=True)\n",
    "bicycleThefts['hour'] = [i.split(':')[0] for i in bicycleThefts['hour']]\n",
    "bicycleThefts['dayofweek'] = bicycleThefts.apply(lambda row: dayofweek(row.day, row.month, row.year), axis = 1)\n",
    "\n",
    "bicycleTheft_Time = bicycleThefts[[\"hour\", \"day\", \"month\", \"year\", \"dayofweek\"]]\n",
    "bicycleTheft_Time.drop_duplicates(inplace=True)\n",
    "\n",
    "print(bicycleTheft_Time)"
   ]
  },
  {
   "cell_type": "code",
   "execution_count": 88,
   "metadata": {},
   "outputs": [
    {
     "name": "stdout",
     "output_type": "stream",
     "text": [
      "        hour  day  month  year  dayofweek\n",
      "0          1   24      3  2014          2\n",
      "1         16   27      9  2014          7\n",
      "2          6   24      3  2014          2\n",
      "3         15   24      3  2014          2\n",
      "4          2    3      5  2014          7\n",
      "...      ...  ...    ...   ...        ...\n",
      "205289     5   27      4  2018          6\n",
      "205290     7   27      4  2018          6\n",
      "205291     6   27      4  2018          6\n",
      "205949     6   21      3  2019          5\n",
      "206309     6    8      8  2019          5\n",
      "\n",
      "[52026 rows x 5 columns]\n"
     ]
    },
    {
     "name": "stderr",
     "output_type": "stream",
     "text": [
      "/home/dragonemperor/.local/lib/python3.6/site-packages/pandas/core/frame.py:4133: SettingWithCopyWarning: \n",
      "A value is trying to be set on a copy of a slice from a DataFrame\n",
      "\n",
      "See the caveats in the documentation: https://pandas.pydata.org/pandas-docs/stable/user_guide/indexing.html#returning-a-view-versus-a-copy\n",
      "  errors=errors,\n"
     ]
    }
   ],
   "source": [
    "# Get the time from regular crimes in the right form\n",
    "crime['occurrencemonth'] = crime.apply(lambda row: months[row.occurrencemonth], axis = 1)\n",
    "crime['occurrencedayofweek'] = crime['occurrencedayofweek'].str.strip()\n",
    "crime['occurrencedayofweek'] = crime.apply(lambda row: daysofweek[row.occurrencedayofweek], axis = 1)\n",
    "crime[['occurrenceday', 'occurrencemonth', 'occurrenceyear', 'occurrencedayofweek']] = crime[['occurrenceday', 'occurrencemonth', 'occurrenceyear', 'occurrencedayofweek']].astype(int)\n",
    "\n",
    "crime['reportedmonth'] = crime.apply(lambda row: months[row.reportedmonth], axis = 1)\n",
    "crime['reporteddayofweek'] = crime['reporteddayofweek'].str.strip()\n",
    "crime['reporteddayofweek'] = crime.apply(lambda row: daysofweek[row.reporteddayofweek], axis = 1)\n",
    "crime[['reportedday', 'reportedmonth', 'reportedyear', 'reporteddayofweek']] = crime[['reportedday', 'reportedmonth', 'reportedyear', 'reporteddayofweek']].astype(int)\n",
    "\n",
    "crime_Time = crime[[ \"occurrencehour\", \"occurrenceday\",\"occurrencemonth\", \"occurrenceyear\", \"occurrencedayofweek\"]]\n",
    "crime_Time_2 = crime[[\"reportedhour\", \"reportedday\",\"reportedmonth\", \"reportedyear\", \"reporteddayofweek\"]]\n",
    "crime_Time_2.rename(columns={\"reportedhour\":\"occurrencehour\",\"reportedday\":\"occurrenceday\",\"reportedmonth\":\"occurrencemonth\",\"reportedyear\":\"occurrenceyear\",\"reporteddayofweek\":\"occurrencedayofweek\"}, inplace=True)\n",
    "crime_Time = crime_Time.append(crime_Time_2)\n",
    "crime_Time.rename(columns={\"occurrencehour\":\"hour\",\"occurrenceday\":\"day\",\"occurrencemonth\":\"month\",\"occurrenceyear\":\"year\",\"occurrencedayofweek\":\"dayofweek\"}, inplace=True)\n",
    "crime_Time = crime_Time.drop_duplicates()\n",
    "\n",
    "crime_Time.drop_duplicates(inplace=True)\n",
    "print(crime_Time)"
   ]
  },
  {
   "cell_type": "code",
   "execution_count": 89,
   "metadata": {},
   "outputs": [
    {
     "name": "stdout",
     "output_type": "stream",
     "text": [
      "      hour  day  month  year  dayofweek\n",
      "0        5   26      2  2006          1\n",
      "10       5   27      2  2006          2\n",
      "18       5   11      3  2006          7\n",
      "22       5   12      3  2006          1\n",
      "24       5   16      3  2006          5\n",
      "...    ...  ...    ...   ...        ...\n",
      "6481     4   26      6  2019          4\n",
      "179      5   12      1  2017          5\n",
      "185      4   29     10  2007          2\n",
      "387      5   13      2  2007          3\n",
      "935      4   18      9  2015          6\n",
      "\n",
      "[3331 rows x 5 columns]\n"
     ]
    },
    {
     "name": "stderr",
     "output_type": "stream",
     "text": [
      "/home/dragonemperor/.local/lib/python3.6/site-packages/ipykernel_launcher.py:9: SettingWithCopyWarning: \n",
      "A value is trying to be set on a copy of a slice from a DataFrame\n",
      "\n",
      "See the caveats in the documentation: https://pandas.pydata.org/pandas-docs/stable/user_guide/indexing.html#returning-a-view-versus-a-copy\n",
      "  if __name__ == '__main__':\n"
     ]
    }
   ],
   "source": [
    "# Get the time from traffic crimes in the right form\n",
    "trafficall['hour'] = trafficall.apply(lambda row: row.DATE[11:13], axis = 1)\n",
    "trafficall['day'] = trafficall.apply(lambda row: row.DATE[8:10], axis = 1)\n",
    "trafficall['month'] = trafficall.apply(lambda row: row.DATE[5:7], axis = 1)\n",
    "trafficall['year'] = trafficall.apply(lambda row: row.DATE[0:4], axis = 1)\n",
    "trafficall['dayofweek'] = trafficall.apply(lambda row: dayofweek(row.day, row.month, row.year), axis = 1)\n",
    "trafficall[['hour', 'day', 'month', 'year','dayofweek']] = trafficall[['hour', 'day', 'month', 'year','dayofweek']].astype(int)\n",
    "traffic_Time = trafficall[['hour', 'day', 'month', 'year','dayofweek']]\n",
    "traffic_Time.drop_duplicates(inplace=True)\n",
    "print(traffic_Time)"
   ]
  },
  {
   "cell_type": "code",
   "execution_count": 90,
   "metadata": {},
   "outputs": [
    {
     "name": "stdout",
     "output_type": "stream",
     "text": [
      "       time_id hour  day  month  year  dayofweek\n",
      "0       100000    1   24      3  2014          2\n",
      "1       100001   16   27      9  2014          7\n",
      "2       100002    6   24      3  2014          2\n",
      "3       100003   15   24      3  2014          2\n",
      "4       100004    2    3      5  2014          7\n",
      "...        ...  ...  ...    ...   ...        ...\n",
      "68620   104110    5    2      3  2015          2\n",
      "68621   104160    4   20      7  2015          2\n",
      "68622   104539    5   25     12  2015          6\n",
      "68623   100185    4   29     10  2007          2\n",
      "68624   100387    5   13      2  2007          3\n",
      "\n",
      "[68625 rows x 6 columns]\n"
     ]
    }
   ],
   "source": [
    "# Output the time tables\n",
    "IncidentTime = crime_Time.append(bicycleTheft_Time)\n",
    "IncidentTime = IncidentTime.append(traffic_Time)\n",
    "IncidentTime.drop_duplicates(inplace = True)\n",
    "IncidentTime = IncidentTime.rename_axis('time_id').reset_index()\n",
    "IncidentTime['time_id'] += 100000\n",
    "IncidentTime.to_csv(\"IncidentTime.csv\", index = False)\n",
    "print(IncidentTime)"
   ]
  },
  {
   "cell_type": "code",
   "execution_count": 91,
   "metadata": {
    "scrolled": true
   },
   "outputs": [
    {
     "name": "stdout",
     "output_type": "stream",
     "text": [
      "     road_condition_id  classification  traffic_control_type     visibility  \\\n",
      "0               100000  Minor Arterial            No Control           Snow   \n",
      "1               100004  Major Arterial            No Control          Clear   \n",
      "2               100010  Major Arterial            No Control          Clear   \n",
      "3               100013  Minor Arterial  Pedestrian Crossover          Clear   \n",
      "4               100015  Major Arterial        Traffic Signal          Clear   \n",
      "..                 ...             ...                   ...            ...   \n",
      "184             113913  Major Arterial            No Control           Rain   \n",
      "185             113953       Collector             Stop Sign           Snow   \n",
      "186             104617  Minor Arterial            No Control          Other   \n",
      "187             103453  Major Arterial            No Control  Drifting Snow   \n",
      "188             106386  Major Arterial            No Control            NaN   \n",
      "\n",
      "    surface_condition  \n",
      "0                 Wet  \n",
      "1          Loose Snow  \n",
      "2                 Dry  \n",
      "3                 Dry  \n",
      "4                 Wet  \n",
      "..                ...  \n",
      "184               Dry  \n",
      "185             Slush  \n",
      "186             Other  \n",
      "187               Dry  \n",
      "188             Other  \n",
      "\n",
      "[189 rows x 5 columns]\n"
     ]
    },
    {
     "name": "stderr",
     "output_type": "stream",
     "text": [
      "/home/dragonemperor/.local/lib/python3.6/site-packages/ipykernel_launcher.py:4: SettingWithCopyWarning: \n",
      "A value is trying to be set on a copy of a slice from a DataFrame\n",
      "\n",
      "See the caveats in the documentation: https://pandas.pydata.org/pandas-docs/stable/user_guide/indexing.html#returning-a-view-versus-a-copy\n",
      "  after removing the cwd from sys.path.\n"
     ]
    }
   ],
   "source": [
    "# Output the road condition tables\n",
    "trafficall.rename(columns={'ROAD_CLASS': 'classification','TRAFFCTL':'traffic_control_type', 'VISIBILITY':'visibility', 'RDSFCOND':'surface_condition'}, inplace=True)\n",
    "RoadCondition = trafficall[['classification', 'traffic_control_type', 'visibility', 'surface_condition']]\n",
    "RoadCondition.drop_duplicates(inplace = True)\n",
    "RoadCondition = RoadCondition.rename_axis('road_condition_id').reset_index()\n",
    "RoadCondition['road_condition_id'] += 100000\n",
    "RoadCondition.to_csv(\"RoadCondition.csv\", index = False)\n",
    "print(RoadCondition)"
   ]
  },
  {
   "cell_type": "code",
   "execution_count": 92,
   "metadata": {},
   "outputs": [
    {
     "name": "stdout",
     "output_type": "stream",
     "text": [
      "      accident_id  time_id  road_condition_id  hood_id   latitude  longitude\n",
      "0          910787   100000             100000       83  43.650445 -79.439790\n",
      "1         1338700   104627             100000      120  43.711943 -79.270191\n",
      "2      7000452997   188992             100000       31  43.722506 -79.469394\n",
      "3      5000264661   130034             100000      130  43.814021 -79.288295\n",
      "4          890220   100000             100004       73  43.655345 -79.355190\n",
      "...           ...      ...                ...      ...        ...        ...\n",
      "5618   9000146770   293286             113291      107  43.684371 -79.437610\n",
      "5619   8002245364   285652             113834       70  43.659312 -79.347934\n",
      "5620   8002016979   292300             113913       39  43.722941 -79.415889\n",
      "5621   5000260881   107276             104617       17  43.621562 -79.500606\n",
      "5622   9000419013   287233             106386      109  43.693389 -79.460269\n",
      "\n",
      "[5623 rows x 6 columns]\n"
     ]
    }
   ],
   "source": [
    "# Output the traffic event tables\n",
    "trafficall.rename(columns={'ACCNUM':\"accident_id\", 'Hood_ID': 'hood_id', 'LATITUDE': 'latitude', 'LONGITUDE':'longitude'}, inplace=True)\n",
    "TrafficEvent = trafficall.drop_duplicates(subset = 'accident_id', keep = 'first')\n",
    "TrafficEvent = TrafficEvent.merge(IncidentTime, on=['hour', 'day', 'month', 'year','dayofweek'])\n",
    "TrafficEvent = TrafficEvent.merge(RoadCondition, on=['classification', 'traffic_control_type', 'visibility', 'surface_condition'])\n",
    "TrafficEvent = TrafficEvent[['accident_id', 'time_id', 'road_condition_id', 'hood_id', 'latitude', 'longitude']]\n",
    "TrafficEvent.drop_duplicates(inplace = True)\n",
    "TrafficEvent.to_csv(\"TrafficEvent.csv\", index = False)\n",
    "print(TrafficEvent)"
   ]
  },
  {
   "cell_type": "code",
   "execution_count": 93,
   "metadata": {},
   "outputs": [
    {
     "name": "stdout",
     "output_type": "stream",
     "text": [
      "       accident_id  person_id      involvement_type   injury  \\\n",
      "0           910787     100000         Vehicle Owner     None   \n",
      "1           910787     100001                Driver  Minimal   \n",
      "2           910787     100002  Other Property Owner     None   \n",
      "3           910787     100003  Other Property Owner     None   \n",
      "4           890220     100004             Passenger    Major   \n",
      "...            ...        ...                   ...      ...   \n",
      "43842   6001348693     100977             Passenger    Major   \n",
      "43843   6001348693     100978             Passenger  Minimal   \n",
      "43844   6001535813     100979             Passenger    Fatal   \n",
      "43845   6001535813     100980                Driver    Major   \n",
      "43846   6001535813     100981                Driver     None   \n",
      "\n",
      "                      vehicle_type action_taken  \n",
      "0                            Other          NaN  \n",
      "1        Automobile, Station Wagon  Going Ahead  \n",
      "2                            Other          NaN  \n",
      "3                            Other          NaN  \n",
      "4                            Other          NaN  \n",
      "...                            ...          ...  \n",
      "43842                          NaN          NaN  \n",
      "43843                          NaN          NaN  \n",
      "43844                          NaN          NaN  \n",
      "43845    Automobile, Station Wagon  Going Ahead  \n",
      "43846  Municipal Transit Bus (TTC)      Stopped  \n",
      "\n",
      "[43838 rows x 6 columns]\n"
     ]
    }
   ],
   "source": [
    "# Output the traffic event tables\n",
    "trafficall.rename(columns={'INVTYPE': 'involvement_type', 'INJURY': 'injury', 'VEHTYPE': 'vehicle_type', 'MANOEUVER': 'action_taken'}, inplace=True)\n",
    "InvolvedPerson = trafficall[['accident_id', 'involvement_type', 'injury', 'vehicle_type', 'action_taken']]\n",
    "InvolvedPerson = InvolvedPerson.rename_axis('person_id').reset_index()\n",
    "InvolvedPerson['person_id'] += 100000\n",
    "InvolvedPerson = InvolvedPerson[['accident_id', 'person_id', 'involvement_type', 'injury', 'vehicle_type', 'action_taken']]\n",
    "InvolvedPerson.drop_duplicates(inplace = True)\n",
    "InvolvedPerson.to_csv(\"InvolvedPerson.csv\", index = False)\n",
    "print(InvolvedPerson)"
   ]
  },
  {
   "cell_type": "code",
   "execution_count": null,
   "metadata": {},
   "outputs": [],
   "source": []
  },
  {
   "cell_type": "code",
   "execution_count": null,
   "metadata": {},
   "outputs": [],
   "source": []
  },
  {
   "cell_type": "code",
   "execution_count": null,
   "metadata": {},
   "outputs": [],
   "source": []
  },
  {
   "cell_type": "code",
   "execution_count": null,
   "metadata": {},
   "outputs": [],
   "source": []
  },
  {
   "cell_type": "code",
   "execution_count": null,
   "metadata": {},
   "outputs": [],
   "source": []
  },
  {
   "cell_type": "code",
   "execution_count": null,
   "metadata": {},
   "outputs": [],
   "source": []
  },
  {
   "cell_type": "code",
   "execution_count": null,
   "metadata": {},
   "outputs": [],
   "source": []
  },
  {
   "cell_type": "code",
   "execution_count": null,
   "metadata": {},
   "outputs": [],
   "source": []
  },
  {
   "cell_type": "code",
   "execution_count": null,
   "metadata": {},
   "outputs": [],
   "source": []
  },
  {
   "cell_type": "code",
   "execution_count": null,
   "metadata": {},
   "outputs": [],
   "source": []
  },
  {
   "cell_type": "code",
   "execution_count": null,
   "metadata": {},
   "outputs": [],
   "source": []
  },
  {
   "cell_type": "code",
   "execution_count": null,
   "metadata": {},
   "outputs": [],
   "source": []
  },
  {
   "cell_type": "code",
   "execution_count": null,
   "metadata": {},
   "outputs": [],
   "source": []
  },
  {
   "cell_type": "code",
   "execution_count": null,
   "metadata": {},
   "outputs": [],
   "source": []
  },
  {
   "cell_type": "code",
   "execution_count": null,
   "metadata": {},
   "outputs": [],
   "source": []
  },
  {
   "cell_type": "code",
   "execution_count": null,
   "metadata": {},
   "outputs": [],
   "source": []
  },
  {
   "cell_type": "code",
   "execution_count": null,
   "metadata": {},
   "outputs": [],
   "source": []
  },
  {
   "cell_type": "code",
   "execution_count": null,
   "metadata": {},
   "outputs": [],
   "source": []
  },
  {
   "cell_type": "code",
   "execution_count": null,
   "metadata": {},
   "outputs": [],
   "source": []
  },
  {
   "cell_type": "code",
   "execution_count": null,
   "metadata": {},
   "outputs": [],
   "source": []
  },
  {
   "cell_type": "code",
   "execution_count": null,
   "metadata": {},
   "outputs": [],
   "source": []
  },
  {
   "cell_type": "code",
   "execution_count": null,
   "metadata": {},
   "outputs": [],
   "source": []
  },
  {
   "cell_type": "code",
   "execution_count": null,
   "metadata": {},
   "outputs": [],
   "source": []
  },
  {
   "cell_type": "code",
   "execution_count": null,
   "metadata": {},
   "outputs": [],
   "source": []
  },
  {
   "cell_type": "code",
   "execution_count": null,
   "metadata": {},
   "outputs": [],
   "source": []
  },
  {
   "cell_type": "code",
   "execution_count": null,
   "metadata": {},
   "outputs": [],
   "source": []
  },
  {
   "cell_type": "code",
   "execution_count": null,
   "metadata": {},
   "outputs": [],
   "source": []
  },
  {
   "cell_type": "code",
   "execution_count": null,
   "metadata": {},
   "outputs": [],
   "source": []
  }
 ],
 "metadata": {
  "kernelspec": {
   "display_name": "Python 3",
   "language": "python",
   "name": "python3"
  },
  "language_info": {
   "codemirror_mode": {
    "name": "ipython",
    "version": 3
   },
   "file_extension": ".py",
   "mimetype": "text/x-python",
   "name": "python",
   "nbconvert_exporter": "python",
   "pygments_lexer": "ipython3",
   "version": "3.6.9"
  }
 },
 "nbformat": 4,
 "nbformat_minor": 4
}
