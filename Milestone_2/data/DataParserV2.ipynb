{
 "cells": [
  {
   "cell_type": "code",
   "execution_count": 1,
   "metadata": {},
   "outputs": [],
   "source": [
    "#As seen from the results below, this table is unwieldy and difficult to use for our requirments. \n",
    "#Therefore, this script/notebook contains scripts to convert the source data into a form we like and as described in our reports.\n",
    "#The data we get from this notebook is used to populate our database"
   ]
  },
  {
   "cell_type": "code",
   "execution_count": 2,
   "metadata": {},
   "outputs": [],
   "source": [
    "import pandas as pd\n"
   ]
  },
  {
   "cell_type": "code",
   "execution_count": 3,
   "metadata": {},
   "outputs": [
    {
     "data": {
      "text/plain": [
       "['X',\n",
       " 'Y',\n",
       " 'FID',\n",
       " 'Index_',\n",
       " 'event_unique_id',\n",
       " 'Primary_Offence',\n",
       " 'Occurrence_Date',\n",
       " 'Occurrence_Year',\n",
       " 'Occurrence_Month',\n",
       " 'Occurrence_Day',\n",
       " 'Occurrence_Time',\n",
       " 'Division',\n",
       " 'City',\n",
       " 'Location_Type',\n",
       " 'Premise_Type',\n",
       " 'Bike_Make',\n",
       " 'Bike_Model',\n",
       " 'Bike_Type',\n",
       " 'Bike_Speed',\n",
       " 'Bike_Colour',\n",
       " 'Cost_of_Bike',\n",
       " 'Status',\n",
       " 'Hood_ID',\n",
       " 'Neighbourhood',\n",
       " 'Lat',\n",
       " 'Long']"
      ]
     },
     "execution_count": 3,
     "metadata": {},
     "output_type": "execute_result"
    }
   ],
   "source": [
    "crime = pd.read_csv('sourcedata/major_crime.csv')\n",
    "crime.columns.tolist()\n",
    "Bicycle_Thefts = pd.read_csv('sourcedata/Bicycle_Thefts.csv')\n",
    "Bicycle_Thefts.columns.tolist()"
   ]
  },
  {
   "cell_type": "code",
   "execution_count": 4,
   "metadata": {},
   "outputs": [
    {
     "name": "stdout",
     "output_type": "stream",
     "text": [
      "                 X             Y    Index_      ACCNUM  YEAR  \\\n",
      "0    -8.843197e+06  5.411506e+06   3436138      910787  2006   \n",
      "1    -8.843197e+06  5.411506e+06   3436139      910787  2006   \n",
      "2    -8.843197e+06  5.411506e+06   3436140      910787  2006   \n",
      "3    -8.843197e+06  5.411506e+06   3436141      910787  2006   \n",
      "4    -8.833779e+06  5.412260e+06   3381375      890220  2006   \n",
      "...            ...           ...       ...         ...   ...   \n",
      "8301 -8.846548e+06  5.409470e+06  81329707  9001466378  2019   \n",
      "8302 -8.846548e+06  5.409470e+06  81329708  9001466378  2019   \n",
      "8303 -8.846548e+06  5.409470e+06  81329709  9001466378  2019   \n",
      "8304 -8.834868e+06  5.412504e+06  81329639  9001473932  2019   \n",
      "8305 -8.834868e+06  5.412504e+06  81329640  9001473932  2019   \n",
      "\n",
      "                        DATE  TIME  HOUR        STREET1  \\\n",
      "0     2006/02/26 05:00:00+00   117     1  LANSDOWNE AVE   \n",
      "1     2006/02/26 05:00:00+00   117     1  LANSDOWNE AVE   \n",
      "2     2006/02/26 05:00:00+00   117     1  LANSDOWNE AVE   \n",
      "3     2006/02/26 05:00:00+00   117     1  LANSDOWNE AVE   \n",
      "4     2006/02/26 05:00:00+00   430     4  ADELAIDE ST E   \n",
      "...                      ...   ...   ...            ...   \n",
      "8301  2019/08/03 04:00:00+00  2027    20  WINDERMIRE AV   \n",
      "8302  2019/08/03 04:00:00+00  2027    20  WINDERMIRE AV   \n",
      "8303  2019/08/03 04:00:00+00  2027    20  WINDERMIRE AV   \n",
      "8304  2019/08/05 04:00:00+00    41     4  PARLIAMENT ST   \n",
      "8305  2019/08/05 04:00:00+00    41     4  PARLIAMENT ST   \n",
      "\n",
      "                    STREET2  ... EMERG_VEH PASSENGER SPEEDING  AG_DRIV  \\\n",
      "0               DUNDAS ST W  ...       NaN       Yes      Yes      Yes   \n",
      "1               DUNDAS ST W  ...       NaN       Yes      Yes      Yes   \n",
      "2               DUNDAS ST W  ...       NaN       Yes      Yes      Yes   \n",
      "3               DUNDAS ST W  ...       NaN       Yes      Yes      Yes   \n",
      "4     EASTERN DIVERSION AVE  ...       NaN       Yes      Yes      Yes   \n",
      "...                     ...  ...       ...       ...      ...      ...   \n",
      "8301          THE QUEENSWAY  ...       NaN       Yes      Yes      Yes   \n",
      "8302          THE QUEENSWAY  ...       NaN       Yes      Yes      Yes   \n",
      "8303          THE QUEENSWAY  ...       NaN       Yes      Yes      Yes   \n",
      "8304              SHUTER ST  ...       NaN       Yes      Yes      Yes   \n",
      "8305              SHUTER ST  ...       NaN       Yes      Yes      Yes   \n",
      "\n",
      "      REDLIGHT  ALCOHOL  DISABILITY Hood_ID           Neighbourhood ObjectId  \n",
      "0          NaN      NaN         NaN      83     Dufferin Grove (83)        1  \n",
      "1          NaN      NaN         NaN      83     Dufferin Grove (83)        2  \n",
      "2          NaN      NaN         NaN      83     Dufferin Grove (83)        3  \n",
      "3          NaN      NaN         NaN      83     Dufferin Grove (83)        4  \n",
      "4          NaN      NaN         NaN      73          Moss Park (73)        5  \n",
      "...        ...      ...         ...     ...                     ...      ...  \n",
      "8301       NaN      NaN         NaN      87  High Park-Swansea (87)     8302  \n",
      "8302       NaN      NaN         NaN      87  High Park-Swansea (87)     8303  \n",
      "8303       NaN      NaN         NaN      87  High Park-Swansea (87)     8304  \n",
      "8304       Yes      NaN         NaN      72        Regent Park (72)     8305  \n",
      "8305       Yes      NaN         NaN      72        Regent Park (72)     8306  \n",
      "\n",
      "[8306 rows x 56 columns]\n"
     ]
    },
    {
     "data": {
      "text/plain": [
       "['X',\n",
       " 'Y',\n",
       " 'Index_',\n",
       " 'ACCNUM',\n",
       " 'YEAR',\n",
       " 'DATE',\n",
       " 'TIME',\n",
       " 'HOUR',\n",
       " 'STREET1',\n",
       " 'STREET2',\n",
       " 'OFFSET',\n",
       " 'ROAD_CLASS',\n",
       " 'District',\n",
       " 'WardNum',\n",
       " 'Division',\n",
       " 'LATITUDE',\n",
       " 'LONGITUDE',\n",
       " 'LOCCOORD',\n",
       " 'ACCLOC',\n",
       " 'TRAFFCTL',\n",
       " 'VISIBILITY',\n",
       " 'LIGHT',\n",
       " 'RDSFCOND',\n",
       " 'ACCLASS',\n",
       " 'IMPACTYPE',\n",
       " 'INVTYPE',\n",
       " 'INVAGE',\n",
       " 'INJURY',\n",
       " 'FATAL_NO',\n",
       " 'INITDIR',\n",
       " 'VEHTYPE',\n",
       " 'MANOEUVER',\n",
       " 'DRIVACT',\n",
       " 'DRIVCOND',\n",
       " 'PEDTYPE',\n",
       " 'PEDACT',\n",
       " 'PEDCOND',\n",
       " 'CYCLISTYPE',\n",
       " 'CYCACT',\n",
       " 'CYCCOND',\n",
       " 'PEDESTRIAN',\n",
       " 'CYCLIST',\n",
       " 'AUTOMOBILE',\n",
       " 'MOTORCYCLE',\n",
       " 'TRUCK',\n",
       " 'TRSN_CITY_VEH',\n",
       " 'EMERG_VEH',\n",
       " 'PASSENGER',\n",
       " 'SPEEDING',\n",
       " 'AG_DRIV',\n",
       " 'REDLIGHT',\n",
       " 'ALCOHOL',\n",
       " 'DISABILITY',\n",
       " 'Hood_ID',\n",
       " 'Neighbourhood',\n",
       " 'ObjectId']"
      ]
     },
     "execution_count": 4,
     "metadata": {},
     "output_type": "execute_result"
    }
   ],
   "source": [
    "#Traffic Data here-\n",
    "trafficall = pd.read_csv('sourcedata/Aggressive_Driving.csv')\n",
    "trafficall.columns.tolist()\n",
    "print(trafficall)\n",
    "Alcohol_Related = pd.read_csv('sourcedata/Alcohol_Related.csv')\n",
    "Alcohol_Related.columns.tolist()\n",
    "Automobile = pd.read_csv('sourcedata/Automobile.csv')\n",
    "Automobile.columns.tolist()\n",
    "Cyclists = pd.read_csv('sourcedata/Cyclists.csv')\n",
    "Cyclists.columns.tolist()\n",
    "Emergency_vehicles = pd.read_csv('sourcedata/Emergency_vehicles.csv')\n",
    "Emergency_vehicles.columns.tolist()\n",
    "Passenger = pd.read_csv('sourcedata/Passenger.csv')\n",
    "Passenger.columns.tolist()\n",
    "Pedestrians = pd.read_csv('sourcedata/Pedestrians.csv')\n",
    "Pedestrians.columns.tolist()\n",
    "Physical_Medical_Disability = pd.read_csv('sourcedata/Physical_Medical_Disability.csv')\n",
    "Physical_Medical_Disability.columns.tolist()\n",
    "Red_Light = pd.read_csv('sourcedata/Red_Light.csv')\n",
    "Red_Light.columns.tolist()\n",
    "Speeding = pd.read_csv('sourcedata/Speeding.csv')\n",
    "Speeding.columns.tolist()\n",
    "Truck = pd.read_csv('sourcedata/Truck.csv')\n",
    "Truck.columns.tolist()\n",
    "TTC_Municipal_Vehicle = pd.read_csv('sourcedata/TTC_Municipal_Vehicle.csv')\n",
    "TTC_Municipal_Vehicle.columns.tolist()"
   ]
  },
  {
   "cell_type": "code",
   "execution_count": 40,
   "metadata": {},
   "outputs": [],
   "source": [
    "\n",
    "trafficall = trafficall.append(Alcohol_Related)\n",
    "trafficall = trafficall.append(Automobile)\n",
    "trafficall = trafficall.append(Cyclists)\n",
    "trafficall = trafficall.append(Emergency_vehicles)\n",
    "trafficall = trafficall.append(KSI,sort=True)\n",
    "trafficall = trafficall.append(Passenger,sort=True)\n",
    "trafficall = trafficall.append(Pedestrians,sort=True)\n",
    "trafficall = trafficall.append(Physical_Medical_Disability,sort=True)\n",
    "trafficall = trafficall.append(Red_Light,sort=True)\n",
    "trafficall = trafficall.append(Speeding,sort=True)\n",
    "trafficall = trafficall.append(Truck,sort=True)\n",
    "trafficall = trafficall.append(TTC_Municipal_Vehicle,sort=True)\n",
    "trafficall.to_csv(\"trafficAll2.csv\")"
   ]
  },
  {
   "cell_type": "code",
   "execution_count": 5,
   "metadata": {},
   "outputs": [],
   "source": [
    "trafficall = pd.read_csv('trafficAll2.csv')"
   ]
  },
  {
   "cell_type": "code",
   "execution_count": 6,
   "metadata": {},
   "outputs": [
    {
     "name": "stdout",
     "output_type": "stream",
     "text": [
      "       Unnamed: 0           ACCLASS           ACCLOC      ACCNUM AG_DRIV  \\\n",
      "0               0  Non-Fatal Injury              NaN      910787     Yes   \n",
      "1               1  Non-Fatal Injury              NaN      910787     Yes   \n",
      "2               2  Non-Fatal Injury              NaN      910787     Yes   \n",
      "3               3  Non-Fatal Injury              NaN      910787     Yes   \n",
      "4               4  Non-Fatal Injury              NaN      890220     Yes   \n",
      "...           ...               ...              ...         ...     ...   \n",
      "59966         977  Non-Fatal Injury  At Intersection  6001348693     Yes   \n",
      "59967         978  Non-Fatal Injury  At Intersection  6001348693     Yes   \n",
      "59968         979             Fatal  At Intersection  6001535813     NaN   \n",
      "59969         980             Fatal  At Intersection  6001535813     NaN   \n",
      "59970         981             Fatal  At Intersection  6001535813     NaN   \n",
      "\n",
      "      ALCOHOL AUTOMOBILE CYCACT CYCCOND CYCLIST  ... TIME        TRAFFCTL  \\\n",
      "0         NaN        Yes    NaN     NaN     NaN  ...  117      No Control   \n",
      "1         NaN        Yes    NaN     NaN     NaN  ...  117      No Control   \n",
      "2         NaN        Yes    NaN     NaN     NaN  ...  117      No Control   \n",
      "3         NaN        Yes    NaN     NaN     NaN  ...  117      No Control   \n",
      "4         NaN        Yes    NaN     NaN     NaN  ...  430      No Control   \n",
      "...       ...        ...    ...     ...     ...  ...  ...             ...   \n",
      "59966     NaN        Yes    NaN     NaN     NaN  ...  156      No Control   \n",
      "59967     NaN        Yes    NaN     NaN     NaN  ...  156      No Control   \n",
      "59968     NaN        Yes    NaN     NaN     NaN  ...  630  Traffic Signal   \n",
      "59969     NaN        Yes    NaN     NaN     NaN  ...  630  Traffic Signal   \n",
      "59970     NaN        Yes    NaN     NaN     NaN  ...  630  Traffic Signal   \n",
      "\n",
      "      TRSN_CITY_VEH TRUCK                      VEHTYPE VISIBILITY  WardNum  \\\n",
      "0               NaN   NaN                        Other       Snow      9.0   \n",
      "1               NaN   NaN    Automobile, Station Wagon       Snow      9.0   \n",
      "2               NaN   NaN                        Other       Snow      9.0   \n",
      "3               NaN   NaN                        Other       Snow      9.0   \n",
      "4               NaN   NaN                        Other      Clear     13.0   \n",
      "...             ...   ...                          ...        ...      ...   \n",
      "59966           Yes   NaN                          NaN      Clear     25.0   \n",
      "59967           Yes   NaN                          NaN      Clear     25.0   \n",
      "59968           Yes   NaN                          NaN      Clear     22.0   \n",
      "59969           Yes   NaN    Automobile, Station Wagon      Clear     22.0   \n",
      "59970           Yes   NaN  Municipal Transit Bus (TTC)      Clear     22.0   \n",
      "\n",
      "                  X             Y  YEAR  \n",
      "0     -8.843197e+06  5.411506e+06  2006  \n",
      "1     -8.843197e+06  5.411506e+06  2006  \n",
      "2     -8.843197e+06  5.411506e+06  2006  \n",
      "3     -8.843197e+06  5.411506e+06  2006  \n",
      "4     -8.833779e+06  5.412260e+06  2006  \n",
      "...             ...           ...   ...  \n",
      "59966 -8.818027e+06  5.437297e+06  2016  \n",
      "59967 -8.818027e+06  5.437297e+06  2016  \n",
      "59968 -8.829389e+06  5.434044e+06  2016  \n",
      "59969 -8.829389e+06  5.434044e+06  2016  \n",
      "59970 -8.829389e+06  5.434044e+06  2016  \n",
      "\n",
      "[59971 rows x 57 columns]\n"
     ]
    },
    {
     "data": {
      "text/plain": [
       "['Unnamed: 0',\n",
       " 'ACCLASS',\n",
       " 'ACCLOC',\n",
       " 'ACCNUM',\n",
       " 'AG_DRIV',\n",
       " 'ALCOHOL',\n",
       " 'AUTOMOBILE',\n",
       " 'CYCACT',\n",
       " 'CYCCOND',\n",
       " 'CYCLIST',\n",
       " 'CYCLISTYPE',\n",
       " 'DATE',\n",
       " 'DISABILITY',\n",
       " 'DRIVACT',\n",
       " 'DRIVCOND',\n",
       " 'District',\n",
       " 'Division',\n",
       " 'EMERG_VEH',\n",
       " 'FATAL_NO',\n",
       " 'HOUR',\n",
       " 'Hood_ID',\n",
       " 'IMPACTYPE',\n",
       " 'INITDIR',\n",
       " 'INJURY',\n",
       " 'INVAGE',\n",
       " 'INVTYPE',\n",
       " 'Index_',\n",
       " 'LATITUDE',\n",
       " 'LIGHT',\n",
       " 'LOCCOORD',\n",
       " 'LONGITUDE',\n",
       " 'MANOEUVER',\n",
       " 'MOTORCYCLE',\n",
       " 'Neighbourhood',\n",
       " 'OFFSET',\n",
       " 'ObjectId',\n",
       " 'PASSENGER',\n",
       " 'PEDACT',\n",
       " 'PEDCOND',\n",
       " 'PEDESTRIAN',\n",
       " 'PEDTYPE',\n",
       " 'RDSFCOND',\n",
       " 'REDLIGHT',\n",
       " 'ROAD_CLASS',\n",
       " 'SPEEDING',\n",
       " 'STREET1',\n",
       " 'STREET2',\n",
       " 'TIME',\n",
       " 'TRAFFCTL',\n",
       " 'TRSN_CITY_VEH',\n",
       " 'TRUCK',\n",
       " 'VEHTYPE',\n",
       " 'VISIBILITY',\n",
       " 'WardNum',\n",
       " 'X',\n",
       " 'Y',\n",
       " 'YEAR']"
      ]
     },
     "execution_count": 6,
     "metadata": {},
     "output_type": "execute_result"
    }
   ],
   "source": [
    "print(trafficall)\n",
    "trafficall.columns.tolist()"
   ]
  },
  {
   "cell_type": "code",
   "execution_count": null,
   "metadata": {},
   "outputs": [],
   "source": [
    "dftime3 = trafficall[[\"HOUR\"]]\n",
    "\n",
    "dftime3 = dftime3.append(trafficall['DATE'])\n",
    "\n",
    "dftime3['DATE'] = dftime3['DATE'].str.slice(0, 4)\n",
    "dftime3.rename(columns={\"DATE\":\"year\"}, inplace=True)\n",
    "\n",
    "# dftime3= dftime3.append(trafficall[[\"DATE\"]])\n",
    "# dftime3.rename(columns={\"DATE\":\"month\"}, inplace=True)\n",
    "# dftime3['month'] = dftime3['month'].str.slice(5, 7)\n",
    "\n",
    "# dftime3= dftime3.append(trafficall[[\"DATE\"]])\n",
    "# dftime3.rename(columns={\"DATE\":\"day\"}, inplace=True)\n",
    "# dftime3['day'] = dftime3['day'].str.slice(8, 10)\n",
    "\n",
    "# dftime3= dftime3.append(trafficall[[\"DATE\"]])\n",
    "# dftime3.rename(columns={\"DATE\":\"hour\"}, inplace=True)\n",
    "# dftime3['hour'] = dftime3['hour'].str.slice(11, 13)\n",
    "\n",
    "\n",
    "print(dftime3)"
   ]
  },
  {
   "cell_type": "code",
   "execution_count": null,
   "metadata": {},
   "outputs": [],
   "source": [
    "dftime1 = df[[ \"occurrencehour\", \"occurrenceday\",\"occurrencemonth\", \"occurrenceyear\", \"occurrencedayofweek\"]]\n",
    "dftime2 = df[[\"reportedhour\", \"reportedday\",\"reportedmonth\", \"reportedyear\", \"reporteddayofweek\"]]\n",
    "dftime2.rename(columns={\"reportedhour\":\"occurrencehour\",\"reportedday\":\"occurrenceday\",\"reportedmonth\":\"occurrencemonth\",\"reportedyear\":\"occurrenceyear\",\"reporteddayofweek\":\"occurrencedayofweek\"}, inplace=True)\n",
    "dftime1 = dftime1.append(dftime2)\n",
    "dftime1.rename(columns={\"occurrencehour\":\"hour\",\"occurrenceday\":\"day\",\"occurrencemonth\":\"month\",\"occurrenceyear\":\"year\",\"occurrencedayofweek\":\"dayofweek\"}, inplace=True)\n",
    "dftime1 = dftime1.drop_duplicates()\n",
    "\n",
    "dftime1 = dftime1.rename_axis('timeID').reset_index()\n",
    "df2['timeID'] += 100000\n",
    "df2.to_csv(\"tableTime.csv\")\n",
    "print(df2)"
   ]
  },
  {
   "cell_type": "code",
   "execution_count": null,
   "metadata": {},
   "outputs": [],
   "source": []
  },
  {
   "cell_type": "code",
   "execution_count": null,
   "metadata": {},
   "outputs": [],
   "source": []
  },
  {
   "cell_type": "code",
   "execution_count": null,
   "metadata": {},
   "outputs": [],
   "source": []
  },
  {
   "cell_type": "code",
   "execution_count": null,
   "metadata": {},
   "outputs": [],
   "source": []
  },
  {
   "cell_type": "code",
   "execution_count": null,
   "metadata": {},
   "outputs": [],
   "source": []
  },
  {
   "cell_type": "code",
   "execution_count": null,
   "metadata": {},
   "outputs": [],
   "source": []
  },
  {
   "cell_type": "code",
   "execution_count": null,
   "metadata": {},
   "outputs": [],
   "source": []
  },
  {
   "cell_type": "code",
   "execution_count": null,
   "metadata": {},
   "outputs": [],
   "source": []
  },
  {
   "cell_type": "code",
   "execution_count": null,
   "metadata": {},
   "outputs": [],
   "source": []
  },
  {
   "cell_type": "code",
   "execution_count": null,
   "metadata": {},
   "outputs": [],
   "source": []
  },
  {
   "cell_type": "code",
   "execution_count": null,
   "metadata": {},
   "outputs": [],
   "source": []
  },
  {
   "cell_type": "code",
   "execution_count": null,
   "metadata": {},
   "outputs": [],
   "source": []
  },
  {
   "cell_type": "code",
   "execution_count": null,
   "metadata": {},
   "outputs": [],
   "source": []
  },
  {
   "cell_type": "code",
   "execution_count": null,
   "metadata": {},
   "outputs": [],
   "source": []
  },
  {
   "cell_type": "code",
   "execution_count": null,
   "metadata": {},
   "outputs": [],
   "source": []
  },
  {
   "cell_type": "code",
   "execution_count": null,
   "metadata": {},
   "outputs": [],
   "source": []
  },
  {
   "cell_type": "code",
   "execution_count": null,
   "metadata": {},
   "outputs": [],
   "source": []
  },
  {
   "cell_type": "code",
   "execution_count": null,
   "metadata": {},
   "outputs": [],
   "source": []
  },
  {
   "cell_type": "code",
   "execution_count": null,
   "metadata": {},
   "outputs": [],
   "source": []
  },
  {
   "cell_type": "code",
   "execution_count": null,
   "metadata": {},
   "outputs": [],
   "source": []
  },
  {
   "cell_type": "code",
   "execution_count": null,
   "metadata": {},
   "outputs": [],
   "source": []
  },
  {
   "cell_type": "code",
   "execution_count": null,
   "metadata": {},
   "outputs": [],
   "source": []
  },
  {
   "cell_type": "code",
   "execution_count": null,
   "metadata": {},
   "outputs": [],
   "source": []
  },
  {
   "cell_type": "code",
   "execution_count": null,
   "metadata": {},
   "outputs": [],
   "source": []
  },
  {
   "cell_type": "code",
   "execution_count": null,
   "metadata": {},
   "outputs": [],
   "source": []
  },
  {
   "cell_type": "code",
   "execution_count": null,
   "metadata": {},
   "outputs": [],
   "source": []
  },
  {
   "cell_type": "code",
   "execution_count": null,
   "metadata": {},
   "outputs": [],
   "source": []
  },
  {
   "cell_type": "code",
   "execution_count": null,
   "metadata": {},
   "outputs": [],
   "source": []
  },
  {
   "cell_type": "code",
   "execution_count": null,
   "metadata": {},
   "outputs": [],
   "source": []
  },
  {
   "cell_type": "code",
   "execution_count": null,
   "metadata": {},
   "outputs": [],
   "source": []
  },
  {
   "cell_type": "code",
   "execution_count": null,
   "metadata": {},
   "outputs": [],
   "source": []
  }
 ],
 "metadata": {
  "kernelspec": {
   "display_name": "Python 3",
   "language": "python",
   "name": "python3"
  },
  "language_info": {
   "codemirror_mode": {
    "name": "ipython",
    "version": 3
   },
   "file_extension": ".py",
   "mimetype": "text/x-python",
   "name": "python",
   "nbconvert_exporter": "python",
   "pygments_lexer": "ipython3",
   "version": "3.7.4"
  }
 },
 "nbformat": 4,
 "nbformat_minor": 4
}
