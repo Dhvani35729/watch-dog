{
 "cells": [
  {
   "cell_type": "code",
   "execution_count": 1,
   "metadata": {},
   "outputs": [],
   "source": [
    "#As seen from the results below, this table is unwieldy and difficult to use for our requirments. \n",
    "#Therefore, this script/notebook contains scripts to convert the source data into a form we like and as described in our reports.\n",
    "#The data we get from this notebook is used to populate our database"
   ]
  },
  {
   "cell_type": "code",
   "execution_count": 2,
   "metadata": {},
   "outputs": [],
   "source": [
    "import pandas as pd\n",
    "import datetime\n",
    "import numpy as np\n"
   ]
  },
  {
   "cell_type": "code",
   "execution_count": 3,
   "metadata": {},
   "outputs": [],
   "source": [
    "crime = pd.read_csv('sourcedata/major_crime.csv')\n",
    "bicycleThefts = pd.read_csv('sourcedata/Bicycle_Thefts.csv')"
   ]
  },
  {
   "cell_type": "code",
   "execution_count": 4,
   "metadata": {},
   "outputs": [
    {
     "name": "stdout",
     "output_type": "stream",
     "text": [
      "                 X             Y    Index_      ACCNUM  YEAR  \\\n",
      "0    -8.843197e+06  5.411506e+06   3436138      910787  2006   \n",
      "1    -8.843197e+06  5.411506e+06   3436139      910787  2006   \n",
      "2    -8.843197e+06  5.411506e+06   3436140      910787  2006   \n",
      "3    -8.843197e+06  5.411506e+06   3436141      910787  2006   \n",
      "4    -8.833779e+06  5.412260e+06   3381375      890220  2006   \n",
      "...            ...           ...       ...         ...   ...   \n",
      "8301 -8.846548e+06  5.409470e+06  81329707  9001466378  2019   \n",
      "8302 -8.846548e+06  5.409470e+06  81329708  9001466378  2019   \n",
      "8303 -8.846548e+06  5.409470e+06  81329709  9001466378  2019   \n",
      "8304 -8.834868e+06  5.412504e+06  81329639  9001473932  2019   \n",
      "8305 -8.834868e+06  5.412504e+06  81329640  9001473932  2019   \n",
      "\n",
      "                        DATE  TIME  HOUR        STREET1  \\\n",
      "0     2006/02/26 05:00:00+00   117     1  LANSDOWNE AVE   \n",
      "1     2006/02/26 05:00:00+00   117     1  LANSDOWNE AVE   \n",
      "2     2006/02/26 05:00:00+00   117     1  LANSDOWNE AVE   \n",
      "3     2006/02/26 05:00:00+00   117     1  LANSDOWNE AVE   \n",
      "4     2006/02/26 05:00:00+00   430     4  ADELAIDE ST E   \n",
      "...                      ...   ...   ...            ...   \n",
      "8301  2019/08/03 04:00:00+00  2027    20  WINDERMIRE AV   \n",
      "8302  2019/08/03 04:00:00+00  2027    20  WINDERMIRE AV   \n",
      "8303  2019/08/03 04:00:00+00  2027    20  WINDERMIRE AV   \n",
      "8304  2019/08/05 04:00:00+00    41     4  PARLIAMENT ST   \n",
      "8305  2019/08/05 04:00:00+00    41     4  PARLIAMENT ST   \n",
      "\n",
      "                    STREET2  ... EMERG_VEH PASSENGER SPEEDING  AG_DRIV  \\\n",
      "0               DUNDAS ST W  ...       NaN       Yes      Yes      Yes   \n",
      "1               DUNDAS ST W  ...       NaN       Yes      Yes      Yes   \n",
      "2               DUNDAS ST W  ...       NaN       Yes      Yes      Yes   \n",
      "3               DUNDAS ST W  ...       NaN       Yes      Yes      Yes   \n",
      "4     EASTERN DIVERSION AVE  ...       NaN       Yes      Yes      Yes   \n",
      "...                     ...  ...       ...       ...      ...      ...   \n",
      "8301          THE QUEENSWAY  ...       NaN       Yes      Yes      Yes   \n",
      "8302          THE QUEENSWAY  ...       NaN       Yes      Yes      Yes   \n",
      "8303          THE QUEENSWAY  ...       NaN       Yes      Yes      Yes   \n",
      "8304              SHUTER ST  ...       NaN       Yes      Yes      Yes   \n",
      "8305              SHUTER ST  ...       NaN       Yes      Yes      Yes   \n",
      "\n",
      "      REDLIGHT  ALCOHOL  DISABILITY Hood_ID           Neighbourhood ObjectId  \n",
      "0          NaN      NaN         NaN      83     Dufferin Grove (83)        1  \n",
      "1          NaN      NaN         NaN      83     Dufferin Grove (83)        2  \n",
      "2          NaN      NaN         NaN      83     Dufferin Grove (83)        3  \n",
      "3          NaN      NaN         NaN      83     Dufferin Grove (83)        4  \n",
      "4          NaN      NaN         NaN      73          Moss Park (73)        5  \n",
      "...        ...      ...         ...     ...                     ...      ...  \n",
      "8301       NaN      NaN         NaN      87  High Park-Swansea (87)     8302  \n",
      "8302       NaN      NaN         NaN      87  High Park-Swansea (87)     8303  \n",
      "8303       NaN      NaN         NaN      87  High Park-Swansea (87)     8304  \n",
      "8304       Yes      NaN         NaN      72        Regent Park (72)     8305  \n",
      "8305       Yes      NaN         NaN      72        Regent Park (72)     8306  \n",
      "\n",
      "[8306 rows x 56 columns]\n"
     ]
    },
    {
     "data": {
      "text/plain": [
       "['X',\n",
       " 'Y',\n",
       " 'Index_',\n",
       " 'ACCNUM',\n",
       " 'YEAR',\n",
       " 'DATE',\n",
       " 'TIME',\n",
       " 'HOUR',\n",
       " 'STREET1',\n",
       " 'STREET2',\n",
       " 'OFFSET',\n",
       " 'ROAD_CLASS',\n",
       " 'District',\n",
       " 'WardNum',\n",
       " 'Division',\n",
       " 'LATITUDE',\n",
       " 'LONGITUDE',\n",
       " 'LOCCOORD',\n",
       " 'ACCLOC',\n",
       " 'TRAFFCTL',\n",
       " 'VISIBILITY',\n",
       " 'LIGHT',\n",
       " 'RDSFCOND',\n",
       " 'ACCLASS',\n",
       " 'IMPACTYPE',\n",
       " 'INVTYPE',\n",
       " 'INVAGE',\n",
       " 'INJURY',\n",
       " 'FATAL_NO',\n",
       " 'INITDIR',\n",
       " 'VEHTYPE',\n",
       " 'MANOEUVER',\n",
       " 'DRIVACT',\n",
       " 'DRIVCOND',\n",
       " 'PEDTYPE',\n",
       " 'PEDACT',\n",
       " 'PEDCOND',\n",
       " 'CYCLISTYPE',\n",
       " 'CYCACT',\n",
       " 'CYCCOND',\n",
       " 'PEDESTRIAN',\n",
       " 'CYCLIST',\n",
       " 'AUTOMOBILE',\n",
       " 'MOTORCYCLE',\n",
       " 'TRUCK',\n",
       " 'TRSN_CITY_VEH',\n",
       " 'EMERG_VEH',\n",
       " 'PASSENGER',\n",
       " 'SPEEDING',\n",
       " 'AG_DRIV',\n",
       " 'REDLIGHT',\n",
       " 'ALCOHOL',\n",
       " 'DISABILITY',\n",
       " 'Hood_ID',\n",
       " 'Neighbourhood',\n",
       " 'ObjectId']"
      ]
     },
     "execution_count": 4,
     "metadata": {},
     "output_type": "execute_result"
    }
   ],
   "source": [
    "#Traffic Data here-\n",
    "trafficall = pd.read_csv('sourcedata/Aggressive_Driving.csv')\n",
    "trafficall.columns.tolist()\n",
    "print(trafficall)\n",
    "Alcohol_Related = pd.read_csv('sourcedata/Alcohol_Related.csv')\n",
    "Alcohol_Related.columns.tolist()\n",
    "Automobile = pd.read_csv('sourcedata/Automobile.csv')\n",
    "Automobile.columns.tolist()\n",
    "Cyclists = pd.read_csv('sourcedata/Cyclists.csv')\n",
    "Cyclists.columns.tolist()\n",
    "Emergency_vehicles = pd.read_csv('sourcedata/Emergency_vehicles.csv')\n",
    "Emergency_vehicles.columns.tolist()\n",
    "Passenger = pd.read_csv('sourcedata/Passenger.csv')\n",
    "Passenger.columns.tolist()\n",
    "Pedestrians = pd.read_csv('sourcedata/Pedestrians.csv')\n",
    "Pedestrians.columns.tolist()\n",
    "Physical_Medical_Disability = pd.read_csv('sourcedata/Physical_Medical_Disability.csv')\n",
    "Physical_Medical_Disability.columns.tolist()\n",
    "Red_Light = pd.read_csv('sourcedata/Red_Light.csv')\n",
    "Red_Light.columns.tolist()\n",
    "Speeding = pd.read_csv('sourcedata/Speeding.csv')\n",
    "Speeding.columns.tolist()\n",
    "Truck = pd.read_csv('sourcedata/Truck.csv')\n",
    "Truck.columns.tolist()\n",
    "TTC_Municipal_Vehicle = pd.read_csv('sourcedata/TTC_Municipal_Vehicle.csv')\n",
    "TTC_Municipal_Vehicle.columns.tolist()"
   ]
  },
  {
   "cell_type": "code",
   "execution_count": 5,
   "metadata": {},
   "outputs": [],
   "source": [
    "trafficall = trafficall.append(Alcohol_Related)\n",
    "trafficall = trafficall.append(Automobile)\n",
    "trafficall = trafficall.append(Cyclists)\n",
    "trafficall = trafficall.append(Emergency_vehicles)\n",
    "trafficall = trafficall.append(Passenger,sort=True)\n",
    "trafficall = trafficall.append(Pedestrians,sort=True)\n",
    "trafficall = trafficall.append(Physical_Medical_Disability,sort=True)\n",
    "trafficall = trafficall.append(Red_Light,sort=True)\n",
    "trafficall = trafficall.append(Speeding,sort=True)\n",
    "trafficall = trafficall.append(Truck,sort=True)\n",
    "trafficall = trafficall.append(TTC_Municipal_Vehicle,sort=True)\n",
    "trafficall.drop_duplicates(inplace=True)\n",
    "trafficall.to_csv(\"trafficAll2.csv\")"
   ]
  },
  {
   "cell_type": "code",
   "execution_count": 6,
   "metadata": {},
   "outputs": [
    {
     "name": "stdout",
     "output_type": "stream",
     "text": [
      "['occurrencehour', 'occurrenceday', 'occurrencemonth', 'occurrenceyear', 'occurrencedayofweek', 'reportedhour', 'reportedday', 'reportedmonth', 'reportedyear', 'reporteddayofweek']\n",
      "['Occurrence_Time', 'Occurrence_Day', 'Occurrence_Month', 'Occurrence_Year']\n",
      "['DATE']\n"
     ]
    }
   ],
   "source": [
    "#Set the tables to be their relevant columns only\n",
    "crime = crime[crime['occurrenceday'].notna()]\n",
    "crime = crime[crime['reportedday'].notna()]\n",
    "crime = crime[['occurrencehour', 'occurrenceday', 'occurrencemonth', 'occurrenceyear', 'occurrencedayofweek', 'reportedhour', 'reportedday', 'reportedmonth', 'reportedyear', 'reporteddayofweek']]\n",
    "bicycleThefts = bicycleThefts[['Occurrence_Time', 'Occurrence_Day', 'Occurrence_Month', 'Occurrence_Year']]\n",
    "trafficall = trafficall[['DATE']]\n",
    "print(crime.columns.tolist())\n",
    "print(bicycleThefts.columns.tolist())\n",
    "print(trafficall.columns.tolist())"
   ]
  },
  {
   "cell_type": "code",
   "execution_count": 7,
   "metadata": {},
   "outputs": [],
   "source": [
    "# IncidentTime Table\n",
    "def dayofweek(day, month, year):\n",
    "    i = \"%s-%s-%s\" % (year, month, day)\n",
    "    df = pd.Timestamp(i)\n",
    "    return (df.dayofweek+1)%7+1\n",
    "\n",
    "months = {\"January\": 1, \"February\": 2, \"March\": 3, \"April\": 4, \"May\": 5, \"June\": 6, \"July\": 7, \"August\": 8, \"September\": 9, \"October\": 10, \"November\": 11, \"December\": 12}\n",
    "daysofweek = {\"Sunday\": 1, \"Monday\": 2, \"Tuesday\": 3, \"Wednesday\": 4, \"Thursday\": 5, \"Friday\": 6, \"Saturday\": 7}\n"
   ]
  },
  {
   "cell_type": "code",
   "execution_count": 8,
   "metadata": {},
   "outputs": [
    {
     "name": "stdout",
     "output_type": "stream",
     "text": [
      "      hour  day  month  year  dayofweek\n",
      "0       16   10      5  2014          7\n",
      "1       18   11      5  2014          1\n",
      "3       19   11      5  2014          1\n",
      "5       08    9      5  2014          6\n",
      "6       02   11      5  2014          1\n",
      "...    ...  ...    ...   ...        ...\n",
      "21576   21   14     10  2019          2\n",
      "21580   07   10     10  2019          5\n",
      "21581   11   12     10  2019          7\n",
      "21582   22    1      9  2019          1\n",
      "21583   10   15     10  2019          3\n",
      "\n",
      "[14465 rows x 5 columns]\n"
     ]
    }
   ],
   "source": [
    "# Get the time from Bicycle Thefts in the right form\n",
    "\n",
    "bicycleThefts.rename(columns={\"Occurrence_Time\": \"hour\", \"Occurrence_Day\": \"day\", \"Occurrence_Month\": \"month\", \"Occurrence_Year\": \"year\"}, inplace=True)\n",
    "bicycleThefts['hour'] = [i.split(':')[0] for i in bicycleThefts['hour']]\n",
    "bicycleThefts['dayofweek'] = bicycleThefts.apply(lambda row: dayofweek(row.day, row.month, row.year), axis = 1)\n",
    "\n",
    "bicycleTheft_Time = bicycleThefts[[\"hour\", \"day\", \"month\", \"year\", \"dayofweek\"]]\n",
    "bicycleTheft_Time.drop_duplicates(inplace=True)\n",
    "\n",
    "print(bicycleTheft_Time)"
   ]
  },
  {
   "cell_type": "code",
   "execution_count": 9,
   "metadata": {},
   "outputs": [
    {
     "name": "stdout",
     "output_type": "stream",
     "text": [
      "        hour  day  month  year  dayofweek\n",
      "0          1   24      3  2014          2\n",
      "1         16   27      9  2014          7\n",
      "2          6   24      3  2014          2\n",
      "3         15   24      3  2014          2\n",
      "4          2    3      5  2014          7\n",
      "...      ...  ...    ...   ...        ...\n",
      "205289     5   27      4  2018          6\n",
      "205290     7   27      4  2018          6\n",
      "205291     6   27      4  2018          6\n",
      "205949     6   21      3  2019          5\n",
      "206309     6    8      8  2019          5\n",
      "\n",
      "[52026 rows x 5 columns]\n"
     ]
    },
    {
     "name": "stderr",
     "output_type": "stream",
     "text": [
      "/home/dragonemperor/.local/lib/python3.6/site-packages/pandas/core/frame.py:4133: SettingWithCopyWarning: \n",
      "A value is trying to be set on a copy of a slice from a DataFrame\n",
      "\n",
      "See the caveats in the documentation: https://pandas.pydata.org/pandas-docs/stable/user_guide/indexing.html#returning-a-view-versus-a-copy\n",
      "  errors=errors,\n"
     ]
    }
   ],
   "source": [
    "# Get the time from regular crimes in the right form\n",
    "\n",
    "crime['occurrencemonth'] = crime.apply(lambda row: months[row.occurrencemonth], axis = 1)\n",
    "crime['occurrencedayofweek'] = crime['occurrencedayofweek'].str.strip()\n",
    "crime['occurrencedayofweek'] = crime.apply(lambda row: daysofweek[row.occurrencedayofweek], axis = 1)\n",
    "crime[['occurrenceday', 'occurrencemonth', 'occurrenceyear', 'occurrencedayofweek']] = crime[['occurrenceday', 'occurrencemonth', 'occurrenceyear', 'occurrencedayofweek']].astype(int)\n",
    "\n",
    "crime['reportedmonth'] = crime.apply(lambda row: months[row.reportedmonth], axis = 1)\n",
    "crime['reporteddayofweek'] = crime['reporteddayofweek'].str.strip()\n",
    "crime['reporteddayofweek'] = crime.apply(lambda row: daysofweek[row.reporteddayofweek], axis = 1)\n",
    "crime[['reportedday', 'reportedmonth', 'reportedyear', 'reporteddayofweek']] = crime[['reportedday', 'reportedmonth', 'reportedyear', 'reporteddayofweek']].astype(int)\n",
    "\n",
    "crime_Time = crime[[ \"occurrencehour\", \"occurrenceday\",\"occurrencemonth\", \"occurrenceyear\", \"occurrencedayofweek\"]]\n",
    "crime_Time_2 = crime[[\"reportedhour\", \"reportedday\",\"reportedmonth\", \"reportedyear\", \"reporteddayofweek\"]]\n",
    "crime_Time_2.rename(columns={\"reportedhour\":\"occurrencehour\",\"reportedday\":\"occurrenceday\",\"reportedmonth\":\"occurrencemonth\",\"reportedyear\":\"occurrenceyear\",\"reporteddayofweek\":\"occurrencedayofweek\"}, inplace=True)\n",
    "crime_Time = crime_Time.append(crime_Time_2)\n",
    "crime_Time.rename(columns={\"occurrencehour\":\"hour\",\"occurrenceday\":\"day\",\"occurrencemonth\":\"month\",\"occurrenceyear\":\"year\",\"occurrencedayofweek\":\"dayofweek\"}, inplace=True)\n",
    "crime_Time = crime_Time.drop_duplicates()\n",
    "\n",
    "crime_Time.drop_duplicates(inplace=True)\n",
    "print(crime_Time)"
   ]
  },
  {
   "cell_type": "code",
   "execution_count": 10,
   "metadata": {},
   "outputs": [
    {
     "name": "stdout",
     "output_type": "stream",
     "text": [
      "      hour  day  month  year  dayofweek\n",
      "0        5   26      2  2006          1\n",
      "10       5   27      2  2006          2\n",
      "18       5   11      3  2006          7\n",
      "22       5   12      3  2006          1\n",
      "24       5   16      3  2006          5\n",
      "...    ...  ...    ...   ...        ...\n",
      "6481     4   26      6  2019          4\n",
      "179      5   12      1  2017          5\n",
      "185      4   29     10  2007          2\n",
      "387      5   13      2  2007          3\n",
      "935      4   18      9  2015          6\n",
      "\n",
      "[3331 rows x 5 columns]\n"
     ]
    },
    {
     "name": "stderr",
     "output_type": "stream",
     "text": [
      "/home/dragonemperor/.local/lib/python3.6/site-packages/ipykernel_launcher.py:9: SettingWithCopyWarning: \n",
      "A value is trying to be set on a copy of a slice from a DataFrame\n",
      "\n",
      "See the caveats in the documentation: https://pandas.pydata.org/pandas-docs/stable/user_guide/indexing.html#returning-a-view-versus-a-copy\n",
      "  if __name__ == '__main__':\n"
     ]
    }
   ],
   "source": [
    "# Get the time from traffic crimes in the right form\n",
    "trafficall['hour'] = trafficall.apply(lambda row: row.DATE[11:13], axis = 1)\n",
    "trafficall['day'] = trafficall.apply(lambda row: row.DATE[8:10], axis = 1)\n",
    "trafficall['month'] = trafficall.apply(lambda row: row.DATE[5:7], axis = 1)\n",
    "trafficall['year'] = trafficall.apply(lambda row: row.DATE[0:4], axis = 1)\n",
    "trafficall['dayofweek'] = trafficall.apply(lambda row: dayofweek(row.day, row.month, row.year), axis = 1)\n",
    "trafficall[['hour', 'day', 'month', 'year','dayofweek']] = trafficall[['hour', 'day', 'month', 'year','dayofweek']].astype(int)\n",
    "traffic_Time = trafficall[['hour', 'day', 'month', 'year','dayofweek']]\n",
    "traffic_Time.drop_duplicates(inplace=True)\n",
    "print(traffic_Time)"
   ]
  },
  {
   "cell_type": "code",
   "execution_count": 11,
   "metadata": {},
   "outputs": [
    {
     "name": "stdout",
     "output_type": "stream",
     "text": [
      "       timeID hour  day  month  year  dayofweek\n",
      "0      100000    1   24      3  2014          2\n",
      "1      100001   16   27      9  2014          7\n",
      "2      100002    6   24      3  2014          2\n",
      "3      100003   15   24      3  2014          2\n",
      "4      100004    2    3      5  2014          7\n",
      "...       ...  ...  ...    ...   ...        ...\n",
      "68620  104110    5    2      3  2015          2\n",
      "68621  104160    4   20      7  2015          2\n",
      "68622  104539    5   25     12  2015          6\n",
      "68623  100185    4   29     10  2007          2\n",
      "68624  100387    5   13      2  2007          3\n",
      "\n",
      "[68625 rows x 6 columns]\n"
     ]
    }
   ],
   "source": [
    "# Output the time tables\n",
    "tableTime = crime_Time.append(bicycleTheft_Time)\n",
    "tableTime = tableTime.append(traffic_Time)\n",
    "tableTime.drop_duplicates(inplace = True)\n",
    "tableTime = tableTime.rename_axis('timeID').reset_index()\n",
    "tableTime['timeID'] += 100000\n",
    "tableTime.to_csv(\"tableTime.csv\")\n",
    "print(tableTime)"
   ]
  },
  {
   "cell_type": "code",
   "execution_count": 29,
   "metadata": {},
   "outputs": [],
   "source": [
    "#dfTime = trafficall[['VISIBILITY']]"
   ]
  },
  {
   "cell_type": "code",
   "execution_count": null,
   "metadata": {},
   "outputs": [],
   "source": []
  },
  {
   "cell_type": "code",
   "execution_count": null,
   "metadata": {},
   "outputs": [],
   "source": []
  },
  {
   "cell_type": "code",
   "execution_count": null,
   "metadata": {},
   "outputs": [],
   "source": []
  },
  {
   "cell_type": "code",
   "execution_count": null,
   "metadata": {},
   "outputs": [],
   "source": []
  },
  {
   "cell_type": "code",
   "execution_count": null,
   "metadata": {},
   "outputs": [],
   "source": []
  },
  {
   "cell_type": "code",
   "execution_count": null,
   "metadata": {},
   "outputs": [],
   "source": []
  },
  {
   "cell_type": "code",
   "execution_count": null,
   "metadata": {},
   "outputs": [],
   "source": []
  },
  {
   "cell_type": "code",
   "execution_count": null,
   "metadata": {},
   "outputs": [],
   "source": []
  },
  {
   "cell_type": "code",
   "execution_count": null,
   "metadata": {},
   "outputs": [],
   "source": []
  },
  {
   "cell_type": "code",
   "execution_count": null,
   "metadata": {},
   "outputs": [],
   "source": []
  },
  {
   "cell_type": "code",
   "execution_count": null,
   "metadata": {},
   "outputs": [],
   "source": []
  },
  {
   "cell_type": "code",
   "execution_count": null,
   "metadata": {},
   "outputs": [],
   "source": []
  },
  {
   "cell_type": "code",
   "execution_count": null,
   "metadata": {},
   "outputs": [],
   "source": []
  },
  {
   "cell_type": "code",
   "execution_count": null,
   "metadata": {},
   "outputs": [],
   "source": []
  },
  {
   "cell_type": "code",
   "execution_count": null,
   "metadata": {},
   "outputs": [],
   "source": []
  },
  {
   "cell_type": "code",
   "execution_count": null,
   "metadata": {},
   "outputs": [],
   "source": []
  },
  {
   "cell_type": "code",
   "execution_count": null,
   "metadata": {},
   "outputs": [],
   "source": []
  },
  {
   "cell_type": "code",
   "execution_count": null,
   "metadata": {},
   "outputs": [],
   "source": []
  },
  {
   "cell_type": "code",
   "execution_count": null,
   "metadata": {},
   "outputs": [],
   "source": []
  },
  {
   "cell_type": "code",
   "execution_count": null,
   "metadata": {},
   "outputs": [],
   "source": []
  },
  {
   "cell_type": "code",
   "execution_count": null,
   "metadata": {},
   "outputs": [],
   "source": []
  },
  {
   "cell_type": "code",
   "execution_count": null,
   "metadata": {},
   "outputs": [],
   "source": []
  },
  {
   "cell_type": "code",
   "execution_count": null,
   "metadata": {},
   "outputs": [],
   "source": []
  },
  {
   "cell_type": "code",
   "execution_count": null,
   "metadata": {},
   "outputs": [],
   "source": []
  },
  {
   "cell_type": "code",
   "execution_count": null,
   "metadata": {},
   "outputs": [],
   "source": []
  },
  {
   "cell_type": "code",
   "execution_count": null,
   "metadata": {},
   "outputs": [],
   "source": []
  },
  {
   "cell_type": "code",
   "execution_count": null,
   "metadata": {},
   "outputs": [],
   "source": []
  },
  {
   "cell_type": "code",
   "execution_count": null,
   "metadata": {},
   "outputs": [],
   "source": []
  },
  {
   "cell_type": "code",
   "execution_count": null,
   "metadata": {},
   "outputs": [],
   "source": []
  },
  {
   "cell_type": "code",
   "execution_count": null,
   "metadata": {},
   "outputs": [],
   "source": []
  }
 ],
 "metadata": {
  "kernelspec": {
   "display_name": "Python 3",
   "language": "python",
   "name": "python3"
  },
  "language_info": {
   "codemirror_mode": {
    "name": "ipython",
    "version": 3
   },
   "file_extension": ".py",
   "mimetype": "text/x-python",
   "name": "python",
   "nbconvert_exporter": "python",
   "pygments_lexer": "ipython3",
   "version": "3.6.9"
  }
 },
 "nbformat": 4,
 "nbformat_minor": 4
}
