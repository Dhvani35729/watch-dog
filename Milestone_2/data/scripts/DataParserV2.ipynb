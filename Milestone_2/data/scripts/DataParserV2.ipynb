{
 "cells": [
  {
   "cell_type": "code",
   "execution_count": 67,
   "metadata": {},
   "outputs": [],
   "source": [
    "#As seen from the results below, this table is unwieldy and difficult to use for our requirments. \n",
    "#Therefore, this script/notebook contains scripts to convert the source data into a form we like and as described in our reports.\n",
    "#The data we get from this notebook is used to populate our database"
   ]
  },
  {
   "cell_type": "code",
   "execution_count": 68,
   "metadata": {},
   "outputs": [],
   "source": [
    "import pandas as pd\n",
    "import datetime\n",
    "import numpy as np"
   ]
  },
  {
   "cell_type": "code",
   "execution_count": 69,
   "metadata": {},
   "outputs": [],
   "source": [
    "# Helper Functions\n",
    "def dayofweek(day, month, year):\n",
    "    i = \"%s-%s-%s\" % (year, month, day)\n",
    "    df = pd.Timestamp(i)\n",
    "    return (df.dayofweek+1)%7+1\n",
    "\n",
    "months = {\"January\": 1, \"February\": 2, \"March\": 3, \"April\": 4, \"May\": 5, \"June\": 6, \"July\": 7, \"August\": 8, \"September\": 9, \"October\": 10, \"November\": 11, \"December\": 12}\n",
    "daysofweek = {\"Sunday\": 1, \"Monday\": 2, \"Tuesday\": 3, \"Wednesday\": 4, \"Thursday\": 5, \"Friday\": 6, \"Saturday\": 7}\n",
    "\n",
    "def ageOut(age):\n",
    "    if (\"unknown\" == age):\n",
    "        return np.NaN\n",
    "    i = age.split(\" \")\n",
    "    if (\"over\" == i[0].lower()):\n",
    "        return int(i[1])\n",
    "    else:\n",
    "        i = age.split(\" \")\n",
    "        return int((int(i[0]) + int(i[2])) / 2)"
   ]
  },
  {
   "cell_type": "code",
   "execution_count": 70,
   "metadata": {},
   "outputs": [
    {
     "name": "stdout",
     "output_type": "stream",
     "text": [
      "['X', 'Y', 'Index_', 'event_unique_id', 'occurrencedate', 'reporteddate', 'premisetype', 'ucr_code', 'ucr_ext', 'offence', 'reportedyear', 'reportedmonth', 'reportedday', 'reporteddayofyear', 'reporteddayofweek', 'reportedhour', 'occurrenceyear', 'occurrencemonth', 'occurrenceday', 'occurrencedayofyear', 'occurrencedayofweek', 'occurrencehour', 'MCI', 'Division', 'Hood_ID', 'Neighbourhood', 'Long', 'Lat', 'ObjectId']\n"
     ]
    }
   ],
   "source": [
    "# Setup the crime table\n",
    "crime = pd.read_csv('sourcedata/major_crime.csv')\n",
    "crime = crime[crime['occurrenceday'].notna()]\n",
    "crime = crime[crime['reportedday'].notna()]\n",
    "print(crime.columns.tolist())"
   ]
  },
  {
   "cell_type": "code",
   "execution_count": 71,
   "metadata": {},
   "outputs": [
    {
     "name": "stdout",
     "output_type": "stream",
     "text": [
      "['X', 'Y', 'FID', 'Index_', 'event_unique_id', 'Primary_Offence', 'Occurrence_Date', 'year', 'month', 'day', 'hour', 'Division', 'City', 'Location_Type', 'Premise_Type', 'Bike_Make', 'Bike_Model', 'Bike_Type', 'Bike_Speed', 'Bike_Colour', 'Cost_of_Bike', 'Status', 'Hood_ID', 'Neighbourhood', 'Lat', 'Long', 'dayofweek']\n"
     ]
    }
   ],
   "source": [
    "# Setup the bicycle table\n",
    "print(bicycleThefts.columns.tolist())\n",
    "bicycleThefts = pd.read_csv('sourcedata/Bicycle_Thefts.csv')"
   ]
  },
  {
   "cell_type": "code",
   "execution_count": 72,
   "metadata": {},
   "outputs": [
    {
     "ename": "PermissionError",
     "evalue": "[Errno 13] Permission denied: 'trafficAll2.csv'",
     "output_type": "error",
     "traceback": [
      "\u001b[0;31m---------------------------------------------------------------------------\u001b[0m",
      "\u001b[0;31mPermissionError\u001b[0m                           Traceback (most recent call last)",
      "\u001b[0;32m<ipython-input-72-a7e3781435ee>\u001b[0m in \u001b[0;36m<module>\u001b[0;34m\u001b[0m\n\u001b[1;32m     36\u001b[0m \u001b[0mtrafficall\u001b[0m \u001b[0;34m=\u001b[0m \u001b[0mtrafficall\u001b[0m\u001b[0;34m.\u001b[0m\u001b[0mappend\u001b[0m\u001b[0;34m(\u001b[0m\u001b[0mTTC_Municipal_Vehicle\u001b[0m\u001b[0;34m,\u001b[0m\u001b[0msort\u001b[0m\u001b[0;34m=\u001b[0m\u001b[0;32mTrue\u001b[0m\u001b[0;34m)\u001b[0m\u001b[0;34m\u001b[0m\u001b[0;34m\u001b[0m\u001b[0m\n\u001b[1;32m     37\u001b[0m \u001b[0mtrafficall\u001b[0m\u001b[0;34m.\u001b[0m\u001b[0mdrop_duplicates\u001b[0m\u001b[0;34m(\u001b[0m\u001b[0minplace\u001b[0m\u001b[0;34m=\u001b[0m\u001b[0;32mTrue\u001b[0m\u001b[0;34m)\u001b[0m\u001b[0;34m\u001b[0m\u001b[0;34m\u001b[0m\u001b[0m\n\u001b[0;32m---> 38\u001b[0;31m \u001b[0mtrafficall\u001b[0m\u001b[0;34m.\u001b[0m\u001b[0mto_csv\u001b[0m\u001b[0;34m(\u001b[0m\u001b[0;34m\"trafficAll2.csv\"\u001b[0m\u001b[0;34m)\u001b[0m\u001b[0;34m\u001b[0m\u001b[0;34m\u001b[0m\u001b[0m\n\u001b[0m\u001b[1;32m     39\u001b[0m \u001b[0mtrafficall\u001b[0m \u001b[0;34m=\u001b[0m \u001b[0mtrafficall\u001b[0m\u001b[0;34m[\u001b[0m\u001b[0;34m[\u001b[0m\u001b[0;34m'ACCNUM'\u001b[0m\u001b[0;34m,\u001b[0m \u001b[0;34m'DATE'\u001b[0m\u001b[0;34m,\u001b[0m \u001b[0;34m'ROAD_CLASS'\u001b[0m\u001b[0;34m,\u001b[0m \u001b[0;34m'TRAFFCTL'\u001b[0m\u001b[0;34m,\u001b[0m \u001b[0;34m'VISIBILITY'\u001b[0m\u001b[0;34m,\u001b[0m \u001b[0;34m'RDSFCOND'\u001b[0m\u001b[0;34m,\u001b[0m \u001b[0;34m'Hood_ID'\u001b[0m\u001b[0;34m,\u001b[0m\u001b[0;34m'LATITUDE'\u001b[0m\u001b[0;34m,\u001b[0m \u001b[0;34m'LONGITUDE'\u001b[0m \u001b[0;34m,\u001b[0m \u001b[0;34m'INVAGE'\u001b[0m\u001b[0;34m,\u001b[0m \u001b[0;34m'INVTYPE'\u001b[0m\u001b[0;34m,\u001b[0m \u001b[0;34m'INJURY'\u001b[0m\u001b[0;34m,\u001b[0m \u001b[0;34m'VEHTYPE'\u001b[0m\u001b[0;34m,\u001b[0m \u001b[0;34m'MANOEUVER'\u001b[0m\u001b[0;34m]\u001b[0m\u001b[0;34m]\u001b[0m\u001b[0;34m\u001b[0m\u001b[0;34m\u001b[0m\u001b[0m\n\u001b[1;32m     40\u001b[0m \u001b[0mtrafficall\u001b[0m\u001b[0;34m.\u001b[0m\u001b[0mrename\u001b[0m\u001b[0;34m(\u001b[0m\u001b[0mcolumns\u001b[0m\u001b[0;34m=\u001b[0m\u001b[0;34m{\u001b[0m\u001b[0;34m'ROAD_CLASS'\u001b[0m\u001b[0;34m:\u001b[0m \u001b[0;34m'classification'\u001b[0m\u001b[0;34m,\u001b[0m\u001b[0;34m'TRAFFCTL'\u001b[0m\u001b[0;34m:\u001b[0m\u001b[0;34m'traffic_control_type'\u001b[0m\u001b[0;34m,\u001b[0m \u001b[0;34m'VISIBILITY'\u001b[0m\u001b[0;34m:\u001b[0m\u001b[0;34m'visibility'\u001b[0m\u001b[0;34m,\u001b[0m \u001b[0;34m'RDSFCOND'\u001b[0m\u001b[0;34m:\u001b[0m\u001b[0;34m'surface_condition'\u001b[0m\u001b[0;34m,\u001b[0m \u001b[0;34m'ACCNUM'\u001b[0m\u001b[0;34m:\u001b[0m\u001b[0;34m\"accident_id\"\u001b[0m\u001b[0;34m,\u001b[0m \u001b[0;34m'Hood_ID'\u001b[0m\u001b[0;34m:\u001b[0m \u001b[0;34m'hood_id'\u001b[0m\u001b[0;34m,\u001b[0m \u001b[0;34m'LATITUDE'\u001b[0m\u001b[0;34m:\u001b[0m \u001b[0;34m'latitude'\u001b[0m\u001b[0;34m,\u001b[0m \u001b[0;34m'LONGITUDE'\u001b[0m\u001b[0;34m:\u001b[0m\u001b[0;34m'longitude'\u001b[0m\u001b[0;34m,\u001b[0m \u001b[0;34m'INVTYPE'\u001b[0m\u001b[0;34m:\u001b[0m \u001b[0;34m'involvement_type'\u001b[0m\u001b[0;34m,\u001b[0m \u001b[0;34m'INVAGE'\u001b[0m\u001b[0;34m:\u001b[0m \u001b[0;34m'age'\u001b[0m\u001b[0;34m,\u001b[0m \u001b[0;34m'INJURY'\u001b[0m\u001b[0;34m:\u001b[0m \u001b[0;34m'injury'\u001b[0m\u001b[0;34m,\u001b[0m \u001b[0;34m'VEHTYPE'\u001b[0m\u001b[0;34m:\u001b[0m \u001b[0;34m'vehicle_type'\u001b[0m\u001b[0;34m,\u001b[0m \u001b[0;34m'MANOEUVER'\u001b[0m\u001b[0;34m:\u001b[0m \u001b[0;34m'action_taken'\u001b[0m\u001b[0;34m}\u001b[0m\u001b[0;34m,\u001b[0m \u001b[0minplace\u001b[0m\u001b[0;34m=\u001b[0m\u001b[0;32mTrue\u001b[0m\u001b[0;34m)\u001b[0m\u001b[0;34m\u001b[0m\u001b[0;34m\u001b[0m\u001b[0m\n",
      "\u001b[0;32m~/.local/lib/python3.6/site-packages/pandas/core/generic.py\u001b[0m in \u001b[0;36mto_csv\u001b[0;34m(self, path_or_buf, sep, na_rep, float_format, columns, header, index, index_label, mode, encoding, compression, quoting, quotechar, line_terminator, chunksize, date_format, doublequote, escapechar, decimal)\u001b[0m\n\u001b[1;32m   3202\u001b[0m             \u001b[0mdecimal\u001b[0m\u001b[0;34m=\u001b[0m\u001b[0mdecimal\u001b[0m\u001b[0;34m,\u001b[0m\u001b[0;34m\u001b[0m\u001b[0;34m\u001b[0m\u001b[0m\n\u001b[1;32m   3203\u001b[0m         )\n\u001b[0;32m-> 3204\u001b[0;31m         \u001b[0mformatter\u001b[0m\u001b[0;34m.\u001b[0m\u001b[0msave\u001b[0m\u001b[0;34m(\u001b[0m\u001b[0;34m)\u001b[0m\u001b[0;34m\u001b[0m\u001b[0;34m\u001b[0m\u001b[0m\n\u001b[0m\u001b[1;32m   3205\u001b[0m \u001b[0;34m\u001b[0m\u001b[0m\n\u001b[1;32m   3206\u001b[0m         \u001b[0;32mif\u001b[0m \u001b[0mpath_or_buf\u001b[0m \u001b[0;32mis\u001b[0m \u001b[0;32mNone\u001b[0m\u001b[0;34m:\u001b[0m\u001b[0;34m\u001b[0m\u001b[0;34m\u001b[0m\u001b[0m\n",
      "\u001b[0;32m~/.local/lib/python3.6/site-packages/pandas/io/formats/csvs.py\u001b[0m in \u001b[0;36msave\u001b[0;34m(self)\u001b[0m\n\u001b[1;32m    186\u001b[0m                 \u001b[0mself\u001b[0m\u001b[0;34m.\u001b[0m\u001b[0mmode\u001b[0m\u001b[0;34m,\u001b[0m\u001b[0;34m\u001b[0m\u001b[0;34m\u001b[0m\u001b[0m\n\u001b[1;32m    187\u001b[0m                 \u001b[0mencoding\u001b[0m\u001b[0;34m=\u001b[0m\u001b[0mself\u001b[0m\u001b[0;34m.\u001b[0m\u001b[0mencoding\u001b[0m\u001b[0;34m,\u001b[0m\u001b[0;34m\u001b[0m\u001b[0;34m\u001b[0m\u001b[0m\n\u001b[0;32m--> 188\u001b[0;31m                 \u001b[0mcompression\u001b[0m\u001b[0;34m=\u001b[0m\u001b[0mdict\u001b[0m\u001b[0;34m(\u001b[0m\u001b[0mself\u001b[0m\u001b[0;34m.\u001b[0m\u001b[0mcompression_args\u001b[0m\u001b[0;34m,\u001b[0m \u001b[0mmethod\u001b[0m\u001b[0;34m=\u001b[0m\u001b[0mself\u001b[0m\u001b[0;34m.\u001b[0m\u001b[0mcompression\u001b[0m\u001b[0;34m)\u001b[0m\u001b[0;34m,\u001b[0m\u001b[0;34m\u001b[0m\u001b[0;34m\u001b[0m\u001b[0m\n\u001b[0m\u001b[1;32m    189\u001b[0m             )\n\u001b[1;32m    190\u001b[0m             \u001b[0mclose\u001b[0m \u001b[0;34m=\u001b[0m \u001b[0;32mTrue\u001b[0m\u001b[0;34m\u001b[0m\u001b[0;34m\u001b[0m\u001b[0m\n",
      "\u001b[0;32m~/.local/lib/python3.6/site-packages/pandas/io/common.py\u001b[0m in \u001b[0;36mget_handle\u001b[0;34m(path_or_buf, mode, encoding, compression, memory_map, is_text)\u001b[0m\n\u001b[1;32m    453\u001b[0m         \u001b[0;32mif\u001b[0m \u001b[0mencoding\u001b[0m\u001b[0;34m:\u001b[0m\u001b[0;34m\u001b[0m\u001b[0;34m\u001b[0m\u001b[0m\n\u001b[1;32m    454\u001b[0m             \u001b[0;31m# Encoding\u001b[0m\u001b[0;34m\u001b[0m\u001b[0;34m\u001b[0m\u001b[0;34m\u001b[0m\u001b[0m\n\u001b[0;32m--> 455\u001b[0;31m             \u001b[0mf\u001b[0m \u001b[0;34m=\u001b[0m \u001b[0mopen\u001b[0m\u001b[0;34m(\u001b[0m\u001b[0mpath_or_buf\u001b[0m\u001b[0;34m,\u001b[0m \u001b[0mmode\u001b[0m\u001b[0;34m,\u001b[0m \u001b[0mencoding\u001b[0m\u001b[0;34m=\u001b[0m\u001b[0mencoding\u001b[0m\u001b[0;34m,\u001b[0m \u001b[0mnewline\u001b[0m\u001b[0;34m=\u001b[0m\u001b[0;34m\"\"\u001b[0m\u001b[0;34m)\u001b[0m\u001b[0;34m\u001b[0m\u001b[0;34m\u001b[0m\u001b[0m\n\u001b[0m\u001b[1;32m    456\u001b[0m         \u001b[0;32melif\u001b[0m \u001b[0mis_text\u001b[0m\u001b[0;34m:\u001b[0m\u001b[0;34m\u001b[0m\u001b[0;34m\u001b[0m\u001b[0m\n\u001b[1;32m    457\u001b[0m             \u001b[0;31m# No explicit encoding\u001b[0m\u001b[0;34m\u001b[0m\u001b[0;34m\u001b[0m\u001b[0;34m\u001b[0m\u001b[0m\n",
      "\u001b[0;31mPermissionError\u001b[0m: [Errno 13] Permission denied: 'trafficAll2.csv'"
     ]
    }
   ],
   "source": [
    "# Setup the Traffic Table\n",
    "trafficall = pd.read_csv('sourcedata/Aggressive_Driving.csv')\n",
    "trafficall.columns.tolist()\n",
    "Alcohol_Related = pd.read_csv('sourcedata/Alcohol_Related.csv')\n",
    "Alcohol_Related.columns.tolist()\n",
    "Automobile = pd.read_csv('sourcedata/Automobile.csv')\n",
    "Automobile.columns.tolist()\n",
    "Cyclists = pd.read_csv('sourcedata/Cyclists.csv')\n",
    "Cyclists.columns.tolist()\n",
    "Emergency_vehicles = pd.read_csv('sourcedata/Emergency_vehicles.csv')\n",
    "Emergency_vehicles.columns.tolist()\n",
    "Passenger = pd.read_csv('sourcedata/Passenger.csv')\n",
    "Passenger.columns.tolist()\n",
    "Pedestrians = pd.read_csv('sourcedata/Pedestrians.csv')\n",
    "Pedestrians.columns.tolist()\n",
    "Physical_Medical_Disability = pd.read_csv('sourcedata/Physical_Medical_Disability.csv')\n",
    "Physical_Medical_Disability.columns.tolist()\n",
    "Red_Light = pd.read_csv('sourcedata/Red_Light.csv')\n",
    "Red_Light.columns.tolist()\n",
    "Speeding = pd.read_csv('sourcedata/Speeding.csv')\n",
    "Speeding.columns.tolist()\n",
    "Truck = pd.read_csv('sourcedata/Truck.csv')\n",
    "Truck.columns.tolist()\n",
    "TTC_Municipal_Vehicle = pd.read_csv('sourcedata/TTC_Municipal_Vehicle.csv')\n",
    "TTC_Municipal_Vehicle.columns.tolist()\n",
    "trafficall = trafficall.append(Alcohol_Related)\n",
    "trafficall = trafficall.append(Automobile)\n",
    "trafficall = trafficall.append(Cyclists)\n",
    "trafficall = trafficall.append(Emergency_vehicles)\n",
    "trafficall = trafficall.append(Passenger,sort=True)\n",
    "trafficall = trafficall.append(Pedestrians,sort=True)\n",
    "trafficall = trafficall.append(Physical_Medical_Disability,sort=True)\n",
    "trafficall = trafficall.append(Red_Light,sort=True)\n",
    "trafficall = trafficall.append(Speeding,sort=True)\n",
    "trafficall = trafficall.append(Truck,sort=True)\n",
    "trafficall = trafficall.append(TTC_Municipal_Vehicle,sort=True)\n",
    "trafficall.drop_duplicates(inplace=True)\n",
    "trafficall.to_csv(\"trafficAll2.csv\")\n",
    "trafficall = trafficall[['ACCNUM', 'DATE', 'ROAD_CLASS', 'TRAFFCTL', 'VISIBILITY', 'RDSFCOND', 'Hood_ID','LATITUDE', 'LONGITUDE' , 'INVAGE', 'INVTYPE', 'INJURY', 'VEHTYPE', 'MANOEUVER']]\n",
    "trafficall.rename(columns={'ROAD_CLASS': 'classification','TRAFFCTL':'traffic_control_type', 'VISIBILITY':'visibility', 'RDSFCOND':'surface_condition', 'ACCNUM':\"accident_id\", 'Hood_ID': 'hood_id', 'LATITUDE': 'latitude', 'LONGITUDE':'longitude', 'INVTYPE': 'involvement_type', 'INVAGE': 'age', 'INJURY': 'injury', 'VEHTYPE': 'vehicle_type', 'MANOEUVER': 'action_taken'}, inplace=True)\n",
    "print(trafficall.columns.tolist())\n",
    "# Fix the Accident ID\n",
    "fix = trafficall[['accident_id']]\n",
    "fix.drop_duplicates(subset = 'accident_id', keep = 'first', inplace = True)\n",
    "fix.reset_index(drop = True, inplace = True)\n",
    "fix = fix.rename_axis('accident_id2').reset_index()\n",
    "fix['accident_id2'] += 1\n",
    "trafficall = trafficall.merge(fix, on=['accident_id'])\n",
    "trafficall = trafficall[['accident_id2', 'DATE', 'classification', 'traffic_control_type', 'visibility', 'surface_condition', 'hood_id', 'latitude', 'longitude', 'age', 'involvement_type', 'injury', 'vehicle_type', 'action_taken']]\n",
    "trafficall.rename(columns={'accident_id2': 'accident_id'}, inplace=True)\n",
    "print(trafficall)"
   ]
  },
  {
   "cell_type": "code",
   "execution_count": null,
   "metadata": {},
   "outputs": [],
   "source": [
    "# Incident Time\n",
    "# Get the time from Bicycle Thefts in the right form\n",
    "bicycleThefts.rename(columns={\"Occurrence_Time\": \"hour\", \"Occurrence_Day\": \"day\", \"Occurrence_Month\": \"month\", \"Occurrence_Year\": \"year\"}, inplace=True)\n",
    "bicycleThefts['hour'] = [i.split(':')[0] for i in bicycleThefts['hour']]\n",
    "bicycleThefts['dayofweek'] = bicycleThefts.apply(lambda row: dayofweek(row.day, row.month, row.year), axis = 1)\n",
    "\n",
    "bicycleTheft_Time = bicycleThefts[[\"hour\", \"day\", \"month\", \"year\", \"dayofweek\"]]\n",
    "bicycleTheft_Time.drop_duplicates(inplace=True)\n",
    "\n",
    "#print(bicycleTheft_Time)\n",
    "\n",
    "# Get the time from regular crimes in the right form\n",
    "crime['occurrencemonth'] = crime.apply(lambda row: months[row.occurrencemonth], axis = 1)\n",
    "crime['occurrencedayofweek'] = crime['occurrencedayofweek'].str.strip()\n",
    "crime['occurrencedayofweek'] = crime.apply(lambda row: daysofweek[row.occurrencedayofweek], axis = 1)\n",
    "crime[['occurrenceday', 'occurrencemonth', 'occurrenceyear', 'occurrencedayofweek']] = crime[['occurrenceday', 'occurrencemonth', 'occurrenceyear', 'occurrencedayofweek']].astype(int)\n",
    "\n",
    "crime['reportedmonth'] = crime.apply(lambda row: months[row.reportedmonth], axis = 1)\n",
    "crime['reporteddayofweek'] = crime['reporteddayofweek'].str.strip()\n",
    "crime['reporteddayofweek'] = crime.apply(lambda row: daysofweek[row.reporteddayofweek], axis = 1)\n",
    "crime[['reportedday', 'reportedmonth', 'reportedyear', 'reporteddayofweek']] = crime[['reportedday', 'reportedmonth', 'reportedyear', 'reporteddayofweek']].astype(int)\n",
    "\n",
    "crime_Time = crime[[ \"occurrencehour\", \"occurrenceday\",\"occurrencemonth\", \"occurrenceyear\", \"occurrencedayofweek\"]]\n",
    "crime_Time_2 = crime[[\"reportedhour\", \"reportedday\",\"reportedmonth\", \"reportedyear\", \"reporteddayofweek\"]]\n",
    "crime_Time_2.rename(columns={\"reportedhour\":\"occurrencehour\",\"reportedday\":\"occurrenceday\",\"reportedmonth\":\"occurrencemonth\",\"reportedyear\":\"occurrenceyear\",\"reporteddayofweek\":\"occurrencedayofweek\"}, inplace=True)\n",
    "crime_Time = crime_Time.append(crime_Time_2)\n",
    "crime_Time.rename(columns={\"occurrencehour\":\"hour\",\"occurrenceday\":\"day\",\"occurrencemonth\":\"month\",\"occurrenceyear\":\"year\",\"occurrencedayofweek\":\"dayofweek\"}, inplace=True)\n",
    "crime_Time = crime_Time.drop_duplicates()\n",
    "\n",
    "crime_Time.drop_duplicates(inplace=True)\n",
    "#print(crime_Time)\n",
    "\n",
    "# Get the time from traffic crimes in the right form\n",
    "trafficall['hour'] = trafficall.apply(lambda row: row.DATE[11:13], axis = 1)\n",
    "trafficall['day'] = trafficall.apply(lambda row: row.DATE[8:10], axis = 1)\n",
    "trafficall['month'] = trafficall.apply(lambda row: row.DATE[5:7], axis = 1)\n",
    "trafficall['year'] = trafficall.apply(lambda row: row.DATE[0:4], axis = 1)\n",
    "trafficall['dayofweek'] = trafficall.apply(lambda row: dayofweek(row.day, row.month, row.year), axis = 1)\n",
    "trafficall[['hour', 'day', 'month', 'year','dayofweek']] = trafficall[['hour', 'day', 'month', 'year','dayofweek']].astype(int)\n",
    "traffic_Time = trafficall[['hour', 'day', 'month', 'year','dayofweek']]\n",
    "traffic_Time.drop_duplicates(inplace=True)\n",
    "#print(traffic_Time)\n",
    "\n",
    "# Output the time tables\n",
    "IncidentTime = crime_Time.append(bicycleTheft_Time)\n",
    "IncidentTime = IncidentTime.append(traffic_Time)\n",
    "IncidentTime[['hour', 'day', 'month', 'year','dayofweek']] = IncidentTime[['hour', 'day', 'month', 'year','dayofweek']].astype(int)\n",
    "IncidentTime.drop_duplicates(inplace = True)\n",
    "IncidentTime.reset_index(drop = True, inplace = True)\n",
    "IncidentTime = IncidentTime.rename_axis('time_id').reset_index()\n",
    "IncidentTime['time_id'] += 1\n",
    "IncidentTime.to_csv(\"IncidentTime.csv\", index = False)\n",
    "print(IncidentTime)"
   ]
  },
  {
   "cell_type": "code",
   "execution_count": null,
   "metadata": {
    "scrolled": true
   },
   "outputs": [],
   "source": [
    "# Output the road condition tables\n",
    "RoadCondition = trafficall[['classification', 'traffic_control_type', 'visibility', 'surface_condition']]\n",
    "RoadCondition.drop_duplicates(inplace = True)\n",
    "RoadCondition.reset_index(drop = True, inplace = True)\n",
    "RoadCondition = RoadCondition.rename_axis('road_condition_id').reset_index()\n",
    "RoadCondition['road_condition_id'] += 1\n",
    "RoadCondition.to_csv(\"RoadCondition.csv\", index = False)\n",
    "print(RoadCondition)"
   ]
  },
  {
   "cell_type": "code",
   "execution_count": null,
   "metadata": {},
   "outputs": [],
   "source": [
    "# Output the traffic event tables\n",
    "TrafficEvent = trafficall.drop_duplicates(subset = 'accident_id', keep = 'first')\n",
    "TrafficEvent = TrafficEvent.merge(IncidentTime, on=['hour', 'day', 'month', 'year','dayofweek'])\n",
    "TrafficEvent = TrafficEvent.merge(RoadCondition, on=['classification', 'traffic_control_type', 'visibility', 'surface_condition'])\n",
    "TrafficEvent = TrafficEvent[['accident_id', 'time_id', 'road_condition_id', 'hood_id', 'latitude', 'longitude']]\n",
    "TrafficEvent.drop_duplicates(inplace = True)\n",
    "TrafficEvent.to_csv(\"TrafficEvent.csv\", index = False)\n",
    "print(TrafficEvent)"
   ]
  },
  {
   "cell_type": "code",
   "execution_count": null,
   "metadata": {},
   "outputs": [],
   "source": [
    "# Output the traffic event tables\n",
    "InvolvedPerson = trafficall[['accident_id', 'involvement_type', 'age', 'injury', 'vehicle_type', 'action_taken']]\n",
    "InvolvedPerson['age'] = InvolvedPerson.apply(lambda row: ageOut(row.age), axis = 1)\n",
    "InvolvedPerson.drop_duplicates(inplace = True)\n",
    "InvolvedPerson.reset_index(drop = True, inplace = True)\n",
    "InvolvedPerson = InvolvedPerson.rename_axis('person_id').reset_index()\n",
    "InvolvedPerson['person_id'] += 1\n",
    "InvolvedPerson = InvolvedPerson[['accident_id', 'person_id', 'involvement_type', 'age', 'injury', 'vehicle_type', 'action_taken']]\n",
    "InvolvedPerson.to_csv(\"InvolvedPerson.csv\", index = False)\n",
    "print(InvolvedPerson)"
   ]
  },
  {
   "cell_type": "code",
   "execution_count": null,
   "metadata": {},
   "outputs": [],
   "source": [
    "# At Vikram's Request, see DataParserV3 for his code\n",
    "bicycleThefts.to_csv(\"bicyclethefts_inter.csv\")\n",
    "trafficall.to_csv(\"trafficall_inter.csv\")\n",
    "crime.to_csv(\"crime_inter.csv\")"
   ]
  }
 ],
 "metadata": {
  "kernelspec": {
   "display_name": "Python 3",
   "language": "python",
   "name": "python3"
  },
  "language_info": {
   "codemirror_mode": {
    "name": "ipython",
    "version": 3
   },
   "file_extension": ".py",
   "mimetype": "text/x-python",
   "name": "python",
   "nbconvert_exporter": "python",
   "pygments_lexer": "ipython3",
   "version": "3.6.9"
  }
 },
 "nbformat": 4,
 "nbformat_minor": 4
}
