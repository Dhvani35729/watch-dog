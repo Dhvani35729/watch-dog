{
 "cells": [
  {
   "cell_type": "code",
   "execution_count": 1,
   "metadata": {},
   "outputs": [],
   "source": [
    "#As seen from the results below, this table is unwieldy and difficult to use for our requirments. \n",
    "#Therefore, this script/notebook contains scripts to convert the source data into a form we like and as described in our reports.\n",
    "#The data we get from this notebook is used to populate our database"
   ]
  },
  {
   "cell_type": "code",
   "execution_count": 1,
   "metadata": {},
   "outputs": [],
   "source": [
    "import pandas as pd\n"
   ]
  },
  {
   "cell_type": "code",
   "execution_count": 2,
   "metadata": {},
   "outputs": [],
   "source": [
    "import numpy"
   ]
  },
  {
   "cell_type": "code",
   "execution_count": 86,
   "metadata": {},
   "outputs": [
    {
     "data": {
      "text/plain": [
       "['X',\n",
       " 'Y',\n",
       " 'Index_',\n",
       " 'event_unique_id',\n",
       " 'occurrencedate',\n",
       " 'reporteddate',\n",
       " 'premisetype',\n",
       " 'ucr_code',\n",
       " 'ucr_ext',\n",
       " 'offence',\n",
       " 'reportedyear',\n",
       " 'reportedmonth',\n",
       " 'reportedday',\n",
       " 'reporteddayofyear',\n",
       " 'reporteddayofweek',\n",
       " 'reportedhour',\n",
       " 'occurrenceyear',\n",
       " 'occurrencemonth',\n",
       " 'occurrenceday',\n",
       " 'occurrencedayofyear',\n",
       " 'occurrencedayofweek',\n",
       " 'occurrencehour',\n",
       " 'MCI',\n",
       " 'Division',\n",
       " 'Hood_ID',\n",
       " 'Neighbourhood',\n",
       " 'Long',\n",
       " 'Lat',\n",
       " 'ObjectId']"
      ]
     },
     "execution_count": 86,
     "metadata": {},
     "output_type": "execute_result"
    }
   ],
   "source": [
    "\n",
    "df.columns.tolist()"
   ]
  },
  {
   "cell_type": "code",
   "execution_count": 87,
   "metadata": {
    "scrolled": true
   },
   "outputs": [
    {
     "name": "stdout",
     "output_type": "stream",
     "text": [
      "       timeID  occurrencehour  occurrenceday occurrencemonth  occurrenceyear  \\\n",
      "0      600000               1           24.0           March          2014.0   \n",
      "1      600001              16           27.0       September          2014.0   \n",
      "2      600002               6           24.0           March          2014.0   \n",
      "3      600003              15           24.0           March          2014.0   \n",
      "4      600004               2            3.0             May          2014.0   \n",
      "...       ...             ...            ...             ...             ...   \n",
      "52030  805289               5           27.0           April          2018.0   \n",
      "52031  805290               7           27.0           April          2018.0   \n",
      "52032  805291               6           27.0           April          2018.0   \n",
      "52033  805949               6           21.0           March          2019.0   \n",
      "52034  806309               6            8.0          August          2019.0   \n",
      "\n",
      "      occurrencedayofweek  \n",
      "0              Monday      \n",
      "1              Saturday    \n",
      "2              Monday      \n",
      "3              Monday      \n",
      "4              Saturday    \n",
      "...                   ...  \n",
      "52030          Friday      \n",
      "52031          Friday      \n",
      "52032          Friday      \n",
      "52033          Thursday    \n",
      "52034          Thursday    \n",
      "\n",
      "[52035 rows x 6 columns]\n"
     ]
    }
   ],
   "source": [
    "df22 = df[[ \"occurrencehour\", \"occurrenceday\",\"occurrencemonth\", \"occurrenceyear\", \"occurrencedayofweek\"]]\n",
    "df12 = df[[\"reportedhour\", \"reportedday\",\"reportedmonth\", \"reportedyear\", \"reporteddayofweek\"]]\n",
    "df12.rename(columns={\"reportedhour\":\"occurrencehour\",\"reportedday\":\"occurrenceday\",\"reportedmonth\":\"occurrencemonth\",\"reportedyear\":\"occurrenceyear\",\"reporteddayofweek\":\"occurrencedayofweek\"}, inplace=True)\n",
    "df2 = df22.append(df12)\n",
    "df2 = df2.drop_duplicates()\n",
    "df2 = df2.rename_axis('timeID').reset_index()\n",
    "df2['timeID'] += 600000\n",
    "df2.to_csv(\"tableTime.csv\")\n",
    "print(df2)"
   ]
  },
  {
   "cell_type": "code",
   "execution_count": 4,
   "metadata": {
    "scrolled": true
   },
   "outputs": [
    {
     "name": "stdout",
     "output_type": "stream",
     "text": [
      "     locationID  Hood_ID                     Neighbourhood Division\n",
      "0        300000      132                     Malvern (132)      D42\n",
      "1        300001       76          Bay Street Corridor (76)      D52\n",
      "2        300002        1        West Humber-Clairville (1)      D23\n",
      "3        300003       47           Don Valley Village (47)      D33\n",
      "4        300004       90                Junction Area (90)      D11\n",
      "..          ...      ...                               ...      ...\n",
      "224      404110      109          Caledonia-Fairbank (109)      D12\n",
      "225      405320        3  Thistletown-Beaumond Heights (3)      D31\n",
      "226      416423       44              Flemingdon Park (44)      D33\n",
      "227      421705       75        Church-Yonge Corridor (75)      D12\n",
      "228      427148       32          Englemount-Lawrence (32)      D42\n",
      "\n",
      "[229 rows x 4 columns]\n"
     ]
    }
   ],
   "source": [
    "df3 = df[[\"Hood_ID\", \"Neighbourhood\", \"Division\"]]\n",
    "df3 = df3.drop_duplicates()\n",
    "df3 = df3.rename_axis('locationID').reset_index()\n",
    "df3['locationID'] += 300000\n",
    "\n",
    "print(df3)"
   ]
  },
  {
   "cell_type": "code",
   "execution_count": 89,
   "metadata": {},
   "outputs": [
    {
     "name": "stdout",
     "output_type": "stream",
     "text": [
      "    crimeID                         offence              MCI\n",
      "0    100000                         Assault          Assault\n",
      "1    100001                             B&E  Break and Enter\n",
      "2    100004              Robbery - Business          Robbery\n",
      "3    100005             Assault With Weapon          Assault\n",
      "4    100008                      Theft Over       Theft Over\n",
      "5    100009               Robbery - Mugging          Robbery\n",
      "6    100011        Theft Over - Shoplifting       Theft Over\n",
      "7    100026                    B&E W'Intent  Break and Enter\n",
      "8    100035              Aggravated Assault          Assault\n",
      "9    100040             Assault Bodily Harm          Assault\n",
      "10   100042  Assault - Resist/ Prevent Seiz          Assault\n",
      "11   100056                 Robbery - Other          Robbery\n",
      "12   100061             Robbery With Weapon          Robbery\n",
      "13   100065           Assault Peace Officer          Assault\n",
      "14   100072         Robbery - Home Invasion          Robbery\n",
      "15   100091    Unlawfully In Dwelling-House  Break and Enter\n",
      "16   100110              Robbery - Swarming          Robbery\n",
      "17   100129          Robbery - Purse Snatch          Robbery\n",
      "18   100141              Pointing A Firearm          Assault\n",
      "19   100142   Theft From Motor Vehicle Over       Theft Over\n",
      "20   100183  Discharge Firearm - Recklessly          Assault\n",
      "21   100241   Robbery - Financial Institute          Robbery\n",
      "22   100309                  Robbery - Taxi          Robbery\n",
      "23   100549  Use Firearm / Immit Commit Off          Assault\n",
      "24   100552     Administering Noxious Thing          Assault\n",
      "25   100595   Discharge Firearm With Intent          Assault\n",
      "26   100810       Robbery - Delivery Person          Robbery\n",
      "27   100814     Assault - Force/Thrt/Impede          Assault\n",
      "28   100896                         B&E Out  Break and Enter\n",
      "29   101076     Theft From Mail / Bag / Key       Theft Over\n",
      "30   101706     Crim Negligence Bodily Harm          Assault\n",
      "31   101892   Assault Peace Officer Wpn/Cbh          Assault\n",
      "32   102518       Robbery - Vehicle Jacking          Robbery\n",
      "33   102666          Robbery - Armoured Car          Robbery\n",
      "34   104015  Air Gun Or Pistol: Bodily Harm          Assault\n",
      "35   105809        Theft Over - Distraction       Theft Over\n",
      "36   106945    Theft - Misapprop Funds Over       Theft Over\n",
      "37   107947                   Robbery - Atm          Robbery\n",
      "38   110059  Disarming Peace/Public Officer          Assault\n",
      "39   110064   Aggravated Aslt Peace Officer          Assault\n",
      "40   120334  Unlawfully Causing Bodily Harm          Assault\n",
      "41   124583  Aggravated Assault Avails Pros          Assault\n",
      "42   128436         Theft Of Utilities Over       Theft Over\n",
      "43   147659          B&E - To Steal Firearm  Break and Enter\n",
      "44   157000          Theft Of Motor Vehicle       Auto Theft\n",
      "45   164535            Theft Over - Bicycle       Theft Over\n",
      "46   169346  Set/Place Trap/Intend Death/Bh          Assault\n",
      "47   173757  Traps Likely Cause Bodily Harm          Assault\n",
      "48   210264    B&E - M/Veh To Steal Firearm  Break and Enter\n"
     ]
    }
   ],
   "source": [
    "df4 = df[[ \"offence\", \"MCI\"]]\n",
    "df4 = df4.drop_duplicates()\n",
    "df4 = df4.rename_axis('crimeID').reset_index()\n",
    "df4['crimeID'] += 100000\n",
    "df4.to_csv(\"tableCrime.csv\")\n",
    "print(df4)"
   ]
  },
  {
   "cell_type": "code",
   "execution_count": 90,
   "metadata": {
    "scrolled": true
   },
   "outputs": [
    {
     "name": "stdout",
     "output_type": "stream",
     "text": [
      "       event_unique_id  crimeID  locationID  timeID  reportedTimeID Division  \\\n",
      "0       GO-20141756091   100000      300011  600000          600000      D32   \n",
      "1       GO-20141755910   100000      300140  600986          600000      D23   \n",
      "2       GO-20141755910   100000      300140  600986          600000      D23   \n",
      "3       GO-20142996126   100241      300140  600001          600001      D23   \n",
      "4       GO-20142995995   100000      300110  600001          600001      D12   \n",
      "...                ...      ...         ...     ...             ...      ...   \n",
      "206430   GO-2019510013   157000      300059  748581          805949      D31   \n",
      "206431  GO-20191496247   157000      300085  734808          806309      D43   \n",
      "206432  GO-20191496261   157000      300126  741119          806309      D32   \n",
      "206433  GO-20191496261   157000      300126  741119          806309      D32   \n",
      "206434  GO-20191496218   157000      300126  741912          806309      D32   \n",
      "\n",
      "             Long        Lat premisetype  \n",
      "0      -79.450104  43.718735       House  \n",
      "1      -79.581047  43.736351       Other  \n",
      "2      -79.581047  43.736351       Other  \n",
      "3      -79.589233  43.741097  Commercial  \n",
      "4      -79.504250  43.704475     Outside  \n",
      "...           ...        ...         ...  \n",
      "206430 -79.522148  43.730247       House  \n",
      "206431 -79.246758  43.755264     Outside  \n",
      "206432 -79.421677  43.792332       House  \n",
      "206433 -79.421677  43.792332       House  \n",
      "206434 -79.439766  43.792599       Other  \n",
      "\n",
      "[206435 rows x 9 columns]\n"
     ]
    }
   ],
   "source": [
    "df5 = df.merge(df4, on=['offence','MCI'] )\n",
    "df6 = df5.merge(df3, on=[\"Hood_ID\", \"Neighbourhood\"])\n",
    "df7 = df6.merge(df2, on=[\"occurrencehour\", \"occurrenceday\",\"occurrencemonth\", \"occurrenceyear\", \"occurrencedayofweek\"])\n",
    "df13 = df2.copy()\n",
    "df13.rename(columns={'timeID': 'reportedTimeID',\"occurrencehour\":\"reportedhour\",\"occurrenceday\":\"reportedday\",\"occurrencemonth\":\"reportedmonth\",\"occurrenceyear\":\"reportedyear\",\"occurrencedayofweek\":\"reporteddayofweek\"}, inplace=True)\n",
    "df14 = df13.merge(df7, on=[\"reportedhour\", \"reportedday\",\"reportedmonth\", \"reportedyear\", \"reporteddayofweek\"])\n",
    "df14 = df14[['event_unique_id','crimeID','locationID','timeID','reportedTimeID', \"Long\", \"Lat\",\"premisetype\"]]\n",
    "print(df14)\n",
    "df14.to_csv(\"tableEvent.csv\")"
   ]
  },
  {
   "cell_type": "code",
   "execution_count": 5,
   "metadata": {},
   "outputs": [
    {
     "name": "stdout",
     "output_type": "stream",
     "text": [
      "     locationID  Hood_ID                  Neighbourhood Division\n",
      "0        300000      132                       Malvern       D42\n",
      "1        300001       76           Bay Street Corridor       D52\n",
      "2        300002        1        West Humber-Clairville       D23\n",
      "3        300003       47            Don Valley Village       D33\n",
      "4        300004       90                 Junction Area       D11\n",
      "..          ...      ...                            ...      ...\n",
      "224      404110      109            Caledonia-Fairbank       D12\n",
      "225      405320        3  Thistletown-Beaumond Heights       D31\n",
      "226      416423       44               Flemingdon Park       D33\n",
      "227      421705       75         Church-Yonge Corridor       D12\n",
      "228      427148       32           Englemount-Lawrence       D42\n",
      "\n",
      "[229 rows x 4 columns]\n"
     ]
    }
   ],
   "source": [
    "df3['Neighbourhood'] = [i.split('(')[0] for i in df3['Neighbourhood']]\n",
    "df3.to_csv(\"tableNeighbourhood.csv\")\n",
    "print(df3)"
   ]
  },
  {
   "cell_type": "code",
   "execution_count": 22,
   "metadata": {},
   "outputs": [
    {
     "name": "stdout",
     "output_type": "stream",
     "text": [
      "                  X             Y    FID  Index_ event_unique_id  \\\n",
      "0     -8.858872e+06  5.425243e+06      1     201  GO-20142058713   \n",
      "1     -8.834825e+06  5.419675e+06      2     202  GO-20142059340   \n",
      "2     -8.836985e+06  5.413433e+06      3     203  GO-20142060810   \n",
      "3     -8.826689e+06  5.417104e+06      4     204  GO-20142062543   \n",
      "4     -8.826689e+06  5.417104e+06      5     205  GO-20142062543   \n",
      "...             ...           ...    ...     ...             ...   \n",
      "21579 -8.833619e+06  5.412199e+06  21580   21376  GO-20199033967   \n",
      "21580 -8.835028e+06  5.410539e+06  21581   21377  GO-20199033985   \n",
      "21581 -8.841614e+06  5.408926e+06  21582   21378  GO-20199034019   \n",
      "21582 -8.836874e+06  5.410296e+06  21583   21379  GO-20199034036   \n",
      "21583 -8.854264e+06  5.416021e+06  21584   21380  GO-20199034037   \n",
      "\n",
      "             Primary_Offence      Occurrence_Date  Occurrence_Year  \\\n",
      "0                THEFT UNDER  2014/05/10 00:00:00             2014   \n",
      "1           PROPERTY - FOUND  2014/05/11 00:00:00             2014   \n",
      "2                THEFT UNDER  2014/05/11 00:00:00             2014   \n",
      "3                THEFT UNDER  2014/05/11 00:00:00             2014   \n",
      "4                THEFT UNDER  2014/05/11 00:00:00             2014   \n",
      "...                      ...                  ...              ...   \n",
      "21579  THEFT UNDER - BICYCLE  2019/10/11 00:00:00             2019   \n",
      "21580  THEFT UNDER - BICYCLE  2019/10/10 00:00:00             2019   \n",
      "21581  THEFT UNDER - BICYCLE  2019/10/12 00:00:00             2019   \n",
      "21582            THEFT UNDER  2019/09/01 00:00:00             2019   \n",
      "21583  THEFT UNDER - BICYCLE  2019/10/15 00:00:00             2019   \n",
      "\n",
      "       Occurrence_Month  Occurrence_Day  ...       Bike_Model  Bike_Type  \\\n",
      "0                     5              10  ...              NaN         MT   \n",
      "1                     5              11  ...  TRAILHEAD               MT   \n",
      "2                     5              11  ...              NaN         MT   \n",
      "3                     5              11  ...              NaN         OT   \n",
      "4                     5              11  ...              NaN         OT   \n",
      "...                 ...             ...  ...              ...        ...   \n",
      "21579                10              11  ...  CCM APEX WOMEN'         MT   \n",
      "21580                10              10  ...  2016 ALIGHT 3           RG   \n",
      "21581                10              12  ...  2017 THRESHOLD          RC   \n",
      "21582                 9               1  ...  ROYAL                   RG   \n",
      "21583                10              15  ...  MARLIN 6                MT   \n",
      "\n",
      "      Bike_Speed Bike_Colour Cost_of_Bike     Status Hood_ID  \\\n",
      "0             10      ONG             NaN     STOLEN       2   \n",
      "1              1      BLK             NaN  RECOVERED      56   \n",
      "2             18      BLU          200.00     STOLEN      76   \n",
      "3             24      WHI         1600.00     STOLEN      62   \n",
      "4             18      BLU          650.00     STOLEN      62   \n",
      "...          ...         ...          ...        ...     ...   \n",
      "21579         24      BLK          408.24     STOLEN      73   \n",
      "21580         12      LBL          500.00     STOLEN      77   \n",
      "21581         22      ONG         3000.00     STOLEN      82   \n",
      "21582         18      BLK          200.00     STOLEN      77   \n",
      "21583          1      BLK          750.00     STOLEN      10   \n",
      "\n",
      "                                Neighbourhood        Lat       Long  \n",
      "0       Mount Olive-Silverstone-Jamestown (2)  43.739670 -79.580597  \n",
      "1                     Leaside-Bennington (56)  43.703518 -79.364586  \n",
      "2                    Bay Street Corridor (76)  43.662968 -79.383987  \n",
      "3                      East End-Danforth (62)  43.686817 -79.291496  \n",
      "4                      East End-Danforth (62)  43.686817 -79.291496  \n",
      "...                                       ...        ...        ...  \n",
      "21579                          Moss Park (73)  43.654949 -79.353752  \n",
      "21580  Waterfront Communities-The Island (77)  43.644157 -79.366409  \n",
      "21581                            Niagara (82)  43.633675 -79.425568  \n",
      "21582  Waterfront Communities-The Island (77)  43.642578 -79.382988  \n",
      "21583                 Princess-Rosethorn (10)  43.679783 -79.539207  \n",
      "\n",
      "[21584 rows x 26 columns]\n"
     ]
    }
   ],
   "source": [
    "bike = pd.read_csv('sourcedata/Bicycle_Thefts.csv')\n",
    "print(bike)"
   ]
  },
  {
   "cell_type": "code",
   "execution_count": 24,
   "metadata": {},
   "outputs": [
    {
     "name": "stdout",
     "output_type": "stream",
     "text": [
      "       bike_theft_id        Primary_Offence        Bike_Make       Bike_Model  \\\n",
      "0             800000            THEFT UNDER  SUPERCYCLE                   NaN   \n",
      "1             800001       PROPERTY - FOUND  ROCKY MOUNTAIN   TRAILHEAD         \n",
      "2             800002            THEFT UNDER  MONGOOSE                     NaN   \n",
      "3             800003            THEFT UNDER  SCOTT                        NaN   \n",
      "4             800004            THEFT UNDER  RALEIGH                      NaN   \n",
      "...              ...                    ...              ...              ...   \n",
      "21085         821340  THEFT UNDER - BICYCLE  CC               CCM APEX WOMEN'   \n",
      "21086         821341  THEFT UNDER - BICYCLE  GI               2016 ALIGHT 3     \n",
      "21087         821342  THEFT UNDER - BICYCLE  NO               2017 THRESHOLD    \n",
      "21088         821343            THEFT UNDER  NA               ROYAL             \n",
      "21089         821344  THEFT UNDER - BICYCLE  TR               MARLIN 6          \n",
      "\n",
      "      Bike_Type Bike_Colour  Bike_Speed  Cost_of_Bike     Status  \n",
      "0            MT      ONG             10           NaN     STOLEN  \n",
      "1            MT      BLK              1           NaN  RECOVERED  \n",
      "2            MT      BLU             18        200.00     STOLEN  \n",
      "3            OT      WHI             24       1600.00     STOLEN  \n",
      "4            OT      BLU             18        650.00     STOLEN  \n",
      "...         ...         ...         ...           ...        ...  \n",
      "21085        MT      BLK             24        408.24     STOLEN  \n",
      "21086        RG      LBL             12        500.00     STOLEN  \n",
      "21087        RC      ONG             22       3000.00     STOLEN  \n",
      "21088        RG      BLK             18        200.00     STOLEN  \n",
      "21089        MT      BLK              1        750.00     STOLEN  \n",
      "\n",
      "[21090 rows x 9 columns]\n"
     ]
    }
   ],
   "source": [
    "bike = bike[[ \"Primary_Offence\", \"Bike_Make\", \"Bike_Model\", \"Bike_Type\", \"Bike_Colour\" , \"Bike_Speed\", \"Cost_of_Bike\",\"Status\"]]\n",
    "bike = bike.drop_duplicates()\n",
    "bike = bike.rename_axis('bike_theft_id').reset_index()\n",
    "bike['bike_theft_id'] += 800000\n",
    "bike.to_csv(\"bikeThefts.csv\")\n",
    "print(bike)"
   ]
  },
  {
   "cell_type": "code",
   "execution_count": 59,
   "metadata": {},
   "outputs": [
    {
     "name": "stdout",
     "output_type": "stream",
     "text": [
      "Index(['Long', 'Lat', 'Hood_ID', 'year', 'month', 'day', 'hour'], dtype='object')\n"
     ]
    }
   ],
   "source": [
    "bike = pd.read_csv('bicyclethefts_inter.csv')\n",
    "bike = bike[[\"Long\", \"Lat\", \"Hood_ID\",\"year\", \"month\",\"day\", \"hour\"]]\n",
    "bike = bike.drop_duplicates()\n",
    "print(bike.columns)"
   ]
  },
  {
   "cell_type": "code",
   "execution_count": 79,
   "metadata": {},
   "outputs": [
    {
     "name": "stdout",
     "output_type": "stream",
     "text": [
      "Index(['Unnamed: 0', 'X', 'Y', 'Index_', 'event_unique_id', 'occurrencedate',\n",
      "       'reporteddate', 'premisetype', 'ucr_code', 'ucr_ext', 'offence',\n",
      "       'reportedyear', 'reportedmonth', 'reportedday', 'reporteddayofyear',\n",
      "       'reporteddayofweek', 'reportedhour', 'year', 'month', 'day',\n",
      "       'occurrencedayofyear', 'occurrencedayofweek', 'hour', 'MCI', 'Division',\n",
      "       'Hood_ID', 'Neighbourhood', 'Long', 'Lat', 'ObjectId'],\n",
      "      dtype='object')\n"
     ]
    }
   ],
   "source": [
    "time = pd.read_csv('incidentTime.csv')\n",
    "time = time.drop_duplicates()\n",
    "\n",
    "mci = pd.read_csv('crime_inter.csv')\n",
    "\n",
    "mci.rename(columns={\"occurrenceyear\":\"year\", \"occurrencemonth\":\"month\", \"occurrenceday\":\"day\", \"occurrencehour\":\"hour\"}, inplace=True)\n",
    "\n",
    "print(mci.columns)\n",
    "mci = mci.merge(time, on=[\"year\", \"month\",\"day\", \"hour\"])\n",
    "\n",
    "mci = mci.rename_axis('event_id').reset_index()\n",
    "mci['event_id'] += 500000\n",
    "mci = mci[['event_id',\"Long\", \"Lat\", \"premisetype\", \"Hood_ID\",\"time_id\"]]\n",
    "mci.to_csv(\"crimeventspt2.csv\")\n"
   ]
  },
  {
   "cell_type": "code",
   "execution_count": 60,
   "metadata": {},
   "outputs": [
    {
     "name": "stdout",
     "output_type": "stream",
     "text": [
      "            Long        Lat  Hood_ID  year  month  day  hour\n",
      "0     -79.580597  43.739670        2  2014      5   10    16\n",
      "1     -79.364586  43.703518       56  2014      5   11    18\n",
      "2     -79.383987  43.662968       76  2014      5   11    18\n",
      "3     -79.291496  43.686817       62  2014      5   11    19\n",
      "5     -79.465492  43.653484       88  2014      5    9     8\n",
      "...          ...        ...      ...   ...    ...  ...   ...\n",
      "21579 -79.353752  43.654949       73  2019     10   11    20\n",
      "21580 -79.366409  43.644157       77  2019     10   10     7\n",
      "21581 -79.425568  43.633675       82  2019     10   12    11\n",
      "21582 -79.382988  43.642578       77  2019      9    1    22\n",
      "21583 -79.539207  43.679783       10  2019     10   15    10\n",
      "\n",
      "[19207 rows x 7 columns]\n"
     ]
    }
   ],
   "source": [
    "bike2 = bike.merge(time, on=[\"year\", \"month\",\"day\", \"hour\"])\n",
    "\n",
    "bike2 = bike2[[\"Long\", \"Lat\", \"Hood_ID\",\"time_id\"]]\n",
    "bike2 = bike2.rename_axis('bike_theft_id').reset_index()\n",
    "bike2['bike_theft_id'] += 800000\n",
    "bike2.to_csv(\"crimeventspt1.csv\")\n",
    "print(bike)"
   ]
  },
  {
   "cell_type": "code",
   "execution_count": 83,
   "metadata": {},
   "outputs": [],
   "source": [
    "regulat = pd.read_csv('regularCrimes.csv')\n",
    "\n",
    "mci = pd.read_csv('crime_inter.csv')\n",
    "mci = mci.merge(regulat, on=[\"MCI\",\"offence\"])\n",
    "\n",
    "mci = mci.rename_axis('event_id').reset_index()\n",
    "mci['event_id'] += 500000\n",
    "mci = mci[[\"crimeID\" ]]\n",
    "mci.to_csv(\"crimeventspt2.csv\")\n"
   ]
  },
  {
   "cell_type": "code",
   "execution_count": 7,
   "metadata": {},
   "outputs": [],
   "source": [
    "time = pd.read_csv('incidentTime.csv')\n",
    "time = time.drop_duplicates()\n",
    "\n",
    "bike = pd.read_csv('sourcedata/bicyclethefts_inter.csv')\n",
    "bike = bike.drop_duplicates()\n",
    "\n",
    "\n",
    "\n",
    "bike['Bike_Make'] = bike['Bike_Make'].str.strip()\n",
    "bike['Bike_Model'] = bike['Bike_Model'].str.strip()\n",
    "bike['Bike_Type'] = bike['Bike_Type'].str.strip()\n",
    "bike['Bike_Colour'] = bike['Bike_Colour'].str.strip()\n",
    "\n",
    "\n",
    "bike = bike.drop_duplicates()\n",
    "\n",
    "\n",
    "\n",
    "bike = bike.merge(time, on=[\"year\", \"month\",\"day\", \"hour\",\"dayofweek\"])\n",
    "\n",
    "\n",
    "bike = bike.drop_duplicates()\n",
    "bike = bike.rename_axis('bike_theft_id').reset_index()\n",
    "bike['bike_theft_id'] += 800000\n",
    "bike = bike[[\"Bike_Make\", \"Bike_Model\", \"Bike_Type\", \"Bike_Colour\" , \"Bike_Speed\", \"Cost_of_Bike\",\"Status\",'bike_theft_id','Lat', 'Long',\"Hood_ID\",\"time_id\"]]\n",
    "\n",
    "\n",
    "bike.to_csv(\"BikeThefts.csv\")\n"
   ]
  },
  {
   "cell_type": "code",
   "execution_count": 12,
   "metadata": {},
   "outputs": [
    {
     "name": "stdout",
     "output_type": "stream",
     "text": [
      "Index(['Unnamed: 0', 'X', 'Y', 'Index_', 'event_unique_id', 'occurrencedate',\n",
      "       'reporteddate', 'premisetype', 'ucr_code', 'ucr_ext', 'offence',\n",
      "       'reportedyear', 'reportedmonth', 'reportedday', 'reporteddayofyear',\n",
      "       'reporteddayofweek', 'reportedhour', 'occurrenceyear',\n",
      "       'occurrencemonth', 'occurrenceday', 'occurrencedayofyear',\n",
      "       'occurrencedayofweek', 'occurrencehour', 'MCI', 'Division', 'Hood_ID',\n",
      "       'Neighbourhood', 'Long', 'Lat', 'ObjectId'],\n",
      "      dtype='object')\n"
     ]
    }
   ],
   "source": [
    "time = pd.read_csv('incidentTime.csv')\n",
    "time = time.drop_duplicates()\n",
    "\n",
    "mci = pd.read_csv('sourcedata/crime_inter.csv')\n",
    "print(mci.columns)\n",
    "mci.rename(columns={\"occurrenceyear\":\"year\", \"occurrencemonth\":\"month\", \"occurrenceday\":\"day\", \"occurrencehour\":\"hour\"}, inplace=True)\n",
    "mci = mci.drop_duplicates()\n",
    "\n",
    "mci = mci.merge(time, on=[\"year\", \"month\",\"day\", \"hour\"])\n",
    "mci = mci.drop_duplicates()\n",
    "mci = mci.rename_axis('event_id').reset_index()\n",
    "mci['event_id'] += 500000\n",
    "mci = mci[['event_id',\"time_id\"]]\n",
    "mci.to_csv(\"crimeventspt2.csv\")"
   ]
  },
  {
   "cell_type": "code",
   "execution_count": 15,
   "metadata": {},
   "outputs": [
    {
     "name": "stdout",
     "output_type": "stream",
     "text": [
      "Index(['Unnamed: 0', 'X', 'Y', 'Index_', 'event_unique_id', 'occurrencedate',\n",
      "       'reporteddate', 'premisetype', 'ucr_code', 'ucr_ext', 'offence',\n",
      "       'reportedyear', 'reportedmonth', 'reportedday', 'reporteddayofyear',\n",
      "       'reporteddayofweek', 'reportedhour', 'occurrenceyear',\n",
      "       'occurrencemonth', 'occurrenceday', 'occurrencedayofyear',\n",
      "       'occurrencedayofweek', 'occurrencehour', 'MCI', 'Division', 'Hood_ID',\n",
      "       'Neighbourhood', 'Long', 'Lat', 'ObjectId'],\n",
      "      dtype='object')\n"
     ]
    }
   ],
   "source": [
    "time = pd.read_csv('incidentTime.csv')\n",
    "time = time.drop_duplicates()\n",
    "\n",
    "mci = pd.read_csv('sourcedata/crime_inter.csv')\n",
    "print(mci.columns)\n",
    "mci.rename(columns={\"reportedyear\":\"year\", \"reportedmonth\":\"month\", \"reportedday\":\"day\", \"reportedhour\":\"hour\"}, inplace=True)\n",
    "mci = mci.drop_duplicates()\n",
    "\n",
    "mci = mci.merge(time, on=[\"year\", \"month\",\"day\", \"hour\"])\n",
    "mci = mci.drop_duplicates()\n",
    "\n",
    "mci = mci[[\"MCI\", \"offence\",\"Long\", \"Lat\", \"premisetype\", \"Hood_ID\",\"time_id\",\"occurrenceyear\", \"occurrencemonth\",\"occurrenceday\", \"occurrencehour\"]]\n",
    "mci.rename(columns={\"time_id\":\"reported_time_id\"}, inplace=True)\n",
    "\n",
    "\n",
    "\n",
    "mci.rename(columns={\"occurrenceyear\":\"year\", \"occurrencemonth\":\"month\", \"occurrenceday\":\"day\", \"occurrencehour\":\"hour\"}, inplace=True)\n",
    "\n",
    "mci = mci.merge(time, on=[\"year\", \"month\",\"day\", \"hour\"])\n",
    "mci = mci.drop_duplicates()\n",
    "mci.rename(columns={\"time_id\":\"occurrence_time_id\"}, inplace=True)\n",
    "\n",
    "\n",
    "\n",
    "mci = mci.drop_duplicates()\n",
    "\n",
    "\n",
    "rc = pd.read_csv('RegularCrime.csv')\n",
    "mci = mci.merge(rc, on=[\"MCI\", \"offence\"])\n",
    "mci = mci.drop_duplicates()\n",
    "\n",
    "mci = mci.rename_axis('event_id').reset_index()\n",
    "mci['event_id'] += 500000\n",
    "mci = mci[['event_id',\"Long\", \"Lat\", \"premisetype\", \"Hood_ID\",\"occurrence_time_id\",\"reported_time_id\", \"crime_id\"]]\n",
    "\n",
    "mci.to_csv(\"CrimeEvents.csv\")"
   ]
  },
  {
   "cell_type": "code",
   "execution_count": null,
   "metadata": {},
   "outputs": [],
   "source": []
  }
 ],
 "metadata": {
  "kernelspec": {
   "display_name": "Python 3",
   "language": "python",
   "name": "python3"
  },
  "language_info": {
   "codemirror_mode": {
    "name": "ipython",
    "version": 3
   },
   "file_extension": ".py",
   "mimetype": "text/x-python",
   "name": "python",
   "nbconvert_exporter": "python",
   "pygments_lexer": "ipython3",
   "version": "3.7.4"
  }
 },
 "nbformat": 4,
 "nbformat_minor": 4
}
