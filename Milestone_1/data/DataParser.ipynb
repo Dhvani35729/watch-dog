{
 "cells": [
  {
   "cell_type": "code",
   "execution_count": 25,
   "metadata": {},
   "outputs": [],
   "source": [
    "#As seen from the results below, this table is unwieldy and difficult to use for our requirments. \n",
    "#Therefore, this script/notebook contains scripts to convert the source data into a form we like and as described in our reports.\n",
    "#The data we get from this notebook is used to populate our database"
   ]
  },
  {
   "cell_type": "code",
   "execution_count": 56,
   "metadata": {},
   "outputs": [],
   "source": [
    "import pandas as pd\n"
   ]
  },
  {
   "cell_type": "code",
   "execution_count": 57,
   "metadata": {},
   "outputs": [],
   "source": [
    "df = pd.read_csv('MCI_2014_to_2019.csv')\n",
    "btDF = pd.read_csv('Bicycle_Thefts.csv')\n",
    "pdDF = pd.read_csv('Police_Divisions.csv')"
   ]
  },
  {
   "cell_type": "code",
   "execution_count": 58,
   "metadata": {},
   "outputs": [
    {
     "name": "stdout",
     "output_type": "stream",
     "text": [
      "['X', 'Y', 'Index_', 'event_unique_id', 'occurrencedate', 'reporteddate', 'premisetype', 'ucr_code', 'ucr_ext', 'offence', 'reportedyear', 'reportedmonth', 'reportedday', 'reporteddayofyear', 'reporteddayofweek', 'reportedhour', 'occurrenceyear', 'occurrencemonth', 'occurrenceday', 'occurrencedayofyear', 'occurrencedayofweek', 'occurrencehour', 'MCI', 'Division', 'Hood_ID', 'Neighbourhood', 'Long', 'Lat', 'ObjectId']\n",
      "['X', 'Y', 'FID', 'Index_', 'event_unique_id', 'Primary_Offence', 'Occurrence_Date', 'Occurrence_Year', 'Occurrence_Month', 'Occurrence_Day', 'Occurrence_Time', 'Division', 'City', 'Location_Type', 'Premise_Type', 'Bike_Make', 'Bike_Model', 'Bike_Type', 'Bike_Speed', 'Bike_Colour', 'Cost_of_Bike', 'Status', 'Hood_ID', 'Neighbourhood', 'Lat', 'Long']\n",
      "['OBJECTID', 'AGENCY', 'DIV', 'UNIT_NAME', 'ADDRESS', 'CITY', 'AREA_SQKM', 'Shape_Leng', 'Shape__Area', 'Shape__Length']\n"
     ]
    }
   ],
   "source": [
    "print(df.columns.tolist())\n",
    "print(btDF.columns.tolist())\n",
    "print(pdDF.columns.tolist())"
   ]
  },
  {
   "cell_type": "code",
   "execution_count": 59,
   "metadata": {
    "scrolled": true
   },
   "outputs": [
    {
     "name": "stderr",
     "output_type": "stream",
     "text": [
      "/home/dragonemperor/.local/lib/python3.6/site-packages/pandas/core/frame.py:4133: SettingWithCopyWarning: \n",
      "A value is trying to be set on a copy of a slice from a DataFrame\n",
      "\n",
      "See the caveats in the documentation: https://pandas.pydata.org/pandas-docs/stable/user_guide/indexing.html#returning-a-view-versus-a-copy\n",
      "  errors=errors,\n"
     ]
    },
    {
     "name": "stdout",
     "output_type": "stream",
     "text": [
      "       time_id  hour   day      month    year day_of_week\n",
      "0       600000     1  24.0      March  2014.0  Monday    \n",
      "1       600001    16  27.0  September  2014.0  Saturday  \n",
      "2       600002     6  24.0      March  2014.0  Monday    \n",
      "3       600003    15  24.0      March  2014.0  Monday    \n",
      "4       600004     2   3.0        May  2014.0  Saturday  \n",
      "...        ...   ...   ...        ...     ...         ...\n",
      "52030   805289     5  27.0      April  2018.0  Friday    \n",
      "52031   805290     7  27.0      April  2018.0  Friday    \n",
      "52032   805291     6  27.0      April  2018.0  Friday    \n",
      "52033   805949     6  21.0      March  2019.0  Thursday  \n",
      "52034   806309     6   8.0     August  2019.0  Thursday  \n",
      "\n",
      "[52035 rows x 6 columns]\n"
     ]
    }
   ],
   "source": [
    "df2_1 = df[[ \"occurrencehour\", \"occurrenceday\",\"occurrencemonth\", \"occurrenceyear\", \"occurrencedayofweek\"]]\n",
    "df2_2 = df[[\"reportedhour\", \"reportedday\",\"reportedmonth\", \"reportedyear\", \"reporteddayofweek\"]]\n",
    "df2_1.rename(columns={\"occurrencehour\":\"hour\", \"occurrenceday\":\"day\", \"occurrencemonth\":\"month\", \"occurrenceyear\":\"year\", \"occurrencedayofweek\":\"day_of_week\"}, inplace=True)\n",
    "df2_2.rename(columns={\"reportedhour\":\"hour\", \"reportedday\":\"day\", \"reportedmonth\":\"month\", \"reportedyear\":\"year\", \"reporteddayofweek\":\"day_of_week\"}, inplace=True)\n",
    "df2 = df2_1.append(df2_2)\n",
    "df2 = df2.drop_duplicates()\n",
    "df2 = df2.rename_axis('time_id').reset_index()\n",
    "df2['time_id'] += 600000\n",
    "df2.to_csv(\"IncidentTime.csv\", index=False)\n",
    "print(df2)"
   ]
  },
  {
   "cell_type": "code",
   "execution_count": 60,
   "metadata": {},
   "outputs": [
    {
     "name": "stdout",
     "output_type": "stream",
     "text": [
      "   division             address\n",
      "0       D11   2054 Davenport Rd\n",
      "1       D12    200 Trethewey Dr\n",
      "2       D13  1435 Eglinton Av W\n",
      "3       D14   350 Dovercourt Rd\n",
      "4       D22     3699 Bloor St W\n",
      "5       D23     5230 Finch Av W\n",
      "6       D31      40 Norfinch Dr\n",
      "7       D32     30 Ellerslie Av\n",
      "8       D33        50 Upjohn Rd\n",
      "9       D41  2222 Eglinton Av E\n",
      "10      D42     242 Milner Av E\n",
      "11      D43  4331 Lawrence Av E\n",
      "12      D51    51 Parliament St\n",
      "13      D52     255 Dundas St W\n",
      "14      D53    75 Eglinton Av W\n",
      "15      D54     41 Cranfield Rd\n",
      "16      D55      101 Coxwell Av\n"
     ]
    },
    {
     "name": "stderr",
     "output_type": "stream",
     "text": [
      "/home/dragonemperor/.local/lib/python3.6/site-packages/pandas/core/frame.py:4133: SettingWithCopyWarning: \n",
      "A value is trying to be set on a copy of a slice from a DataFrame\n",
      "\n",
      "See the caveats in the documentation: https://pandas.pydata.org/pandas-docs/stable/user_guide/indexing.html#returning-a-view-versus-a-copy\n",
      "  errors=errors,\n"
     ]
    }
   ],
   "source": [
    "PoliceDivision = pdDF[[\"DIV\", \"ADDRESS\"]]\n",
    "PoliceDivision.rename(columns={\"DIV\":\"division\", \"ADDRESS\":\"address\"}, inplace=True)\n",
    "PoliceDivision.to_csv(\"PoliceDivision.csv\", index=False)\n",
    "print(PoliceDivision)"
   ]
  },
  {
   "cell_type": "code",
   "execution_count": 61,
   "metadata": {
    "scrolled": true
   },
   "outputs": [
    {
     "name": "stdout",
     "output_type": "stream",
     "text": [
      "        hood_id                           name division\n",
      "0           132                       Malvern       D42\n",
      "1            76           Bay Street Corridor       D52\n",
      "2             1        West Humber-Clairville       D23\n",
      "3            47            Don Valley Village       D33\n",
      "4            90                 Junction Area       D11\n",
      "...         ...                            ...      ...\n",
      "104110      109            Caledonia-Fairbank       D12\n",
      "105320        3  Thistletown-Beaumond Heights       D31\n",
      "116423       44               Flemingdon Park       D33\n",
      "121705       75         Church-Yonge Corridor       D12\n",
      "127148       32           Englemount-Lawrence       D42\n",
      "\n",
      "[229 rows x 3 columns]\n"
     ]
    },
    {
     "name": "stderr",
     "output_type": "stream",
     "text": [
      "/home/dragonemperor/.local/lib/python3.6/site-packages/pandas/core/frame.py:4133: SettingWithCopyWarning: \n",
      "A value is trying to be set on a copy of a slice from a DataFrame\n",
      "\n",
      "See the caveats in the documentation: https://pandas.pydata.org/pandas-docs/stable/user_guide/indexing.html#returning-a-view-versus-a-copy\n",
      "  errors=errors,\n"
     ]
    }
   ],
   "source": [
    "Neighbourhood = df[[\"Hood_ID\", \"Neighbourhood\", \"Division\"]]\n",
    "Neighbourhood.rename(columns={\"Hood_ID\":\"hood_id\", \"Neighbourhood\":\"name\", \"Division\":\"division\"}, inplace=True)\n",
    "Neighbourhood = Neighbourhood.drop_duplicates()\n",
    "Neighbourhood['name'] = [i.split('(')[0] for i in Neighbourhood['name']]\n",
    "Neighbourhood.to_csv(\"Neighbourhood.csv\")\n",
    "print(Neighbourhood)"
   ]
  },
  {
   "cell_type": "code",
   "execution_count": 62,
   "metadata": {},
   "outputs": [
    {
     "name": "stdout",
     "output_type": "stream",
     "text": [
      "    crimeID                         offence              MCI\n",
      "0    100000                         Assault          Assault\n",
      "1    100001                             B&E  Break and Enter\n",
      "2    100004              Robbery - Business          Robbery\n",
      "3    100005             Assault With Weapon          Assault\n",
      "4    100008                      Theft Over       Theft Over\n",
      "5    100009               Robbery - Mugging          Robbery\n",
      "6    100011        Theft Over - Shoplifting       Theft Over\n",
      "7    100026                    B&E W'Intent  Break and Enter\n",
      "8    100035              Aggravated Assault          Assault\n",
      "9    100040             Assault Bodily Harm          Assault\n",
      "10   100042  Assault - Resist/ Prevent Seiz          Assault\n",
      "11   100056                 Robbery - Other          Robbery\n",
      "12   100061             Robbery With Weapon          Robbery\n",
      "13   100065           Assault Peace Officer          Assault\n",
      "14   100072         Robbery - Home Invasion          Robbery\n",
      "15   100091    Unlawfully In Dwelling-House  Break and Enter\n",
      "16   100110              Robbery - Swarming          Robbery\n",
      "17   100129          Robbery - Purse Snatch          Robbery\n",
      "18   100141              Pointing A Firearm          Assault\n",
      "19   100142   Theft From Motor Vehicle Over       Theft Over\n",
      "20   100183  Discharge Firearm - Recklessly          Assault\n",
      "21   100241   Robbery - Financial Institute          Robbery\n",
      "22   100309                  Robbery - Taxi          Robbery\n",
      "23   100549  Use Firearm / Immit Commit Off          Assault\n",
      "24   100552     Administering Noxious Thing          Assault\n",
      "25   100595   Discharge Firearm With Intent          Assault\n",
      "26   100810       Robbery - Delivery Person          Robbery\n",
      "27   100814     Assault - Force/Thrt/Impede          Assault\n",
      "28   100896                         B&E Out  Break and Enter\n",
      "29   101076     Theft From Mail / Bag / Key       Theft Over\n",
      "30   101706     Crim Negligence Bodily Harm          Assault\n",
      "31   101892   Assault Peace Officer Wpn/Cbh          Assault\n",
      "32   102518       Robbery - Vehicle Jacking          Robbery\n",
      "33   102666          Robbery - Armoured Car          Robbery\n",
      "34   104015  Air Gun Or Pistol: Bodily Harm          Assault\n",
      "35   105809        Theft Over - Distraction       Theft Over\n",
      "36   106945    Theft - Misapprop Funds Over       Theft Over\n",
      "37   107947                   Robbery - Atm          Robbery\n",
      "38   110059  Disarming Peace/Public Officer          Assault\n",
      "39   110064   Aggravated Aslt Peace Officer          Assault\n",
      "40   120334  Unlawfully Causing Bodily Harm          Assault\n",
      "41   124583  Aggravated Assault Avails Pros          Assault\n",
      "42   128436         Theft Of Utilities Over       Theft Over\n",
      "43   147659          B&E - To Steal Firearm  Break and Enter\n",
      "44   157000          Theft Of Motor Vehicle       Auto Theft\n",
      "45   164535            Theft Over - Bicycle       Theft Over\n",
      "46   169346  Set/Place Trap/Intend Death/Bh          Assault\n",
      "47   173757  Traps Likely Cause Bodily Harm          Assault\n",
      "48   210264    B&E - M/Veh To Steal Firearm  Break and Enter\n"
     ]
    }
   ],
   "source": [
    "df4 = df[[ \"offence\", \"MCI\"]]\n",
    "df4 = df4.drop_duplicates()\n",
    "df4 = df4.rename_axis('crimeID').reset_index()\n",
    "df4['crimeID'] += 100000\n",
    "df4.to_csv(\"tableCrime.csv\", index=False)\n",
    "print(df4)"
   ]
  },
  {
   "cell_type": "code",
   "execution_count": 63,
   "metadata": {
    "scrolled": true
   },
   "outputs": [
    {
     "name": "stdout",
     "output_type": "stream",
     "text": [
      "       event_unique_id  crimeID  Hood_ID  time_id  reportedTimeID       Long  \\\n",
      "0       GO-20141756091   100000       31   600000          600000 -79.450104   \n",
      "1       GO-20141756091   100000       31   600000          600000 -79.450104   \n",
      "2       GO-20141755910   100000        2   600986          600000 -79.581047   \n",
      "3       GO-20141755910   100000        2   600986          600000 -79.581047   \n",
      "4       GO-20142996126   100241        2   600001          600001 -79.589233   \n",
      "...                ...      ...      ...      ...             ...        ...   \n",
      "405639  GO-20191496247   157000      127   734808          806309 -79.246758   \n",
      "405640  GO-20191496247   157000      127   734808          806309 -79.246758   \n",
      "405641  GO-20191496261   157000       36   741119          806309 -79.421677   \n",
      "405642  GO-20191496261   157000       36   741119          806309 -79.421677   \n",
      "405643  GO-20191496218   157000       36   741912          806309 -79.439766   \n",
      "\n",
      "              Lat premisetype  \n",
      "0       43.718735       House  \n",
      "1       43.718735       House  \n",
      "2       43.736351       Other  \n",
      "3       43.736351       Other  \n",
      "4       43.741097  Commercial  \n",
      "...           ...         ...  \n",
      "405639  43.755264     Outside  \n",
      "405640  43.755264     Outside  \n",
      "405641  43.792332       House  \n",
      "405642  43.792332       House  \n",
      "405643  43.792599       Other  \n",
      "\n",
      "[405644 rows x 8 columns]\n"
     ]
    }
   ],
   "source": [
    "df5 = df.merge(df4, on=['offence','MCI'] )\n",
    "df6 = pd.merge(df5, Neighbourhood, left_on='Hood_ID', right_on='hood_id')\n",
    "df6.rename(columns={\"occurrencehour\":\"hour\", \"occurrenceday\":\"day\", \"occurrencemonth\":\"month\", \"occurrenceyear\":\"year\", \"occurrencedayofweek\":\"day_of_week\"}, inplace=True)\n",
    "df7 = df6.merge(df2, on=[\"hour\", \"day\", \"month\", \"year\", \"day_of_week\"])\n",
    "df13 = df2.copy()\n",
    "df13.rename(columns={'time_id': 'reportedTimeID', \"hour\":\"reportedhour\", \"day\":\"reportedday\", \"month\":\"reportedmonth\", \"year\":\"reportedyear\", \"day_of_week\":\"reporteddayofweek\"}, inplace=True)\n",
    "df14 = df13.merge(df7, on=[\"reportedhour\", \"reportedday\",\"reportedmonth\", \"reportedyear\", \"reporteddayofweek\"])\n",
    "df14 = df14[['event_unique_id','crimeID','Hood_ID','time_id','reportedTimeID', \"Long\", \"Lat\",\"premisetype\"]]\n",
    "print(df14)\n",
    "df14.to_csv(\"tableEvent.csv\", index=False)"
   ]
  },
  {
   "cell_type": "code",
   "execution_count": null,
   "metadata": {},
   "outputs": [],
   "source": []
  }
 ],
 "metadata": {
  "kernelspec": {
   "display_name": "Python 3",
   "language": "python",
   "name": "python3"
  },
  "language_info": {
   "codemirror_mode": {
    "name": "ipython",
    "version": 3
   },
   "file_extension": ".py",
   "mimetype": "text/x-python",
   "name": "python",
   "nbconvert_exporter": "python",
   "pygments_lexer": "ipython3",
   "version": "3.6.9"
  }
 },
 "nbformat": 4,
 "nbformat_minor": 4
}
