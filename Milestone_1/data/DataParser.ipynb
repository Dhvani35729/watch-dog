{
 "cells": [
  {
   "cell_type": "code",
   "execution_count": 1,
   "metadata": {},
   "outputs": [],
   "source": [
    "#As seen from the results below, this table is unwieldy and difficult to use for our requirments. \n",
    "#Therefore, this script/notebook contains scripts to convert the source data into a form we like and as described in our reports.\n",
    "#The data we get from this notebook is used to populate our database"
   ]
  },
  {
   "cell_type": "code",
   "execution_count": 2,
   "metadata": {},
   "outputs": [],
   "source": [
    "import pandas as pd\n"
   ]
  },
  {
   "cell_type": "code",
   "execution_count": 3,
   "metadata": {},
   "outputs": [],
   "source": [
    "df = pd.read_csv('data_from_source.csv')\n",
    "pdDF = pd.read_csv('tablepoliceDivision.csv')"
   ]
  },
  {
   "cell_type": "code",
   "execution_count": 86,
   "metadata": {},
   "outputs": [
    {
     "data": {
      "text/plain": [
       "['X',\n",
       " 'Y',\n",
       " 'Index_',\n",
       " 'event_unique_id',\n",
       " 'occurrencedate',\n",
       " 'reporteddate',\n",
       " 'premisetype',\n",
       " 'ucr_code',\n",
       " 'ucr_ext',\n",
       " 'offence',\n",
       " 'reportedyear',\n",
       " 'reportedmonth',\n",
       " 'reportedday',\n",
       " 'reporteddayofyear',\n",
       " 'reporteddayofweek',\n",
       " 'reportedhour',\n",
       " 'occurrenceyear',\n",
       " 'occurrencemonth',\n",
       " 'occurrenceday',\n",
       " 'occurrencedayofyear',\n",
       " 'occurrencedayofweek',\n",
       " 'occurrencehour',\n",
       " 'MCI',\n",
       " 'Division',\n",
       " 'Hood_ID',\n",
       " 'Neighbourhood',\n",
       " 'Long',\n",
       " 'Lat',\n",
       " 'ObjectId']"
      ]
     },
     "execution_count": 86,
     "metadata": {},
     "output_type": "execute_result"
    }
   ],
   "source": [
    "\n",
    "df.columns.tolist()"
   ]
  },
  {
   "cell_type": "code",
   "execution_count": 87,
   "metadata": {
    "scrolled": true
   },
   "outputs": [
    {
     "name": "stdout",
     "output_type": "stream",
     "text": [
      "       timeID  occurrencehour  occurrenceday occurrencemonth  occurrenceyear  \\\n",
      "0      600000               1           24.0           March          2014.0   \n",
      "1      600001              16           27.0       September          2014.0   \n",
      "2      600002               6           24.0           March          2014.0   \n",
      "3      600003              15           24.0           March          2014.0   \n",
      "4      600004               2            3.0             May          2014.0   \n",
      "...       ...             ...            ...             ...             ...   \n",
      "52030  805289               5           27.0           April          2018.0   \n",
      "52031  805290               7           27.0           April          2018.0   \n",
      "52032  805291               6           27.0           April          2018.0   \n",
      "52033  805949               6           21.0           March          2019.0   \n",
      "52034  806309               6            8.0          August          2019.0   \n",
      "\n",
      "      occurrencedayofweek  \n",
      "0              Monday      \n",
      "1              Saturday    \n",
      "2              Monday      \n",
      "3              Monday      \n",
      "4              Saturday    \n",
      "...                   ...  \n",
      "52030          Friday      \n",
      "52031          Friday      \n",
      "52032          Friday      \n",
      "52033          Thursday    \n",
      "52034          Thursday    \n",
      "\n",
      "[52035 rows x 6 columns]\n"
     ]
    }
   ],
   "source": [
    "df22 = df[[ \"occurrencehour\", \"occurrenceday\",\"occurrencemonth\", \"occurrenceyear\", \"occurrencedayofweek\"]]\n",
    "df12 = df[[\"reportedhour\", \"reportedday\",\"reportedmonth\", \"reportedyear\", \"reporteddayofweek\"]]\n",
    "df12.rename(columns={\"reportedhour\":\"occurrencehour\",\"reportedday\":\"occurrenceday\",\"reportedmonth\":\"occurrencemonth\",\"reportedyear\":\"occurrenceyear\",\"reporteddayofweek\":\"occurrencedayofweek\"}, inplace=True)\n",
    "df2 = df22.append(df12)\n",
    "df2 = df2.drop_duplicates()\n",
    "df2 = df2.rename_axis('timeID').reset_index()\n",
    "df2['timeID'] += 600000\n",
    "df2.to_csv(\"tableTime.csv\")\n",
    "print(df2)"
   ]
  },
  {
   "cell_type": "code",
   "execution_count": 4,
   "metadata": {
    "scrolled": true
   },
   "outputs": [
    {
     "name": "stdout",
     "output_type": "stream",
     "text": [
      "     locationID  Hood_ID                     Neighbourhood Division\n",
      "0        300000      132                     Malvern (132)      D42\n",
      "1        300001       76          Bay Street Corridor (76)      D52\n",
      "2        300002        1        West Humber-Clairville (1)      D23\n",
      "3        300003       47           Don Valley Village (47)      D33\n",
      "4        300004       90                Junction Area (90)      D11\n",
      "..          ...      ...                               ...      ...\n",
      "224      404110      109          Caledonia-Fairbank (109)      D12\n",
      "225      405320        3  Thistletown-Beaumond Heights (3)      D31\n",
      "226      416423       44              Flemingdon Park (44)      D33\n",
      "227      421705       75        Church-Yonge Corridor (75)      D12\n",
      "228      427148       32          Englemount-Lawrence (32)      D42\n",
      "\n",
      "[229 rows x 4 columns]\n"
     ]
    }
   ],
   "source": [
    "df3 = df[[\"Hood_ID\", \"Neighbourhood\", \"Division\"]]\n",
    "df3 = df3.drop_duplicates()\n",
    "df3 = df3.rename_axis('locationID').reset_index()\n",
    "df3['locationID'] += 300000\n",
    "\n",
    "print(df3)"
   ]
  },
  {
   "cell_type": "code",
   "execution_count": 89,
   "metadata": {},
   "outputs": [
    {
     "name": "stdout",
     "output_type": "stream",
     "text": [
      "    crimeID                         offence              MCI\n",
      "0    100000                         Assault          Assault\n",
      "1    100001                             B&E  Break and Enter\n",
      "2    100004              Robbery - Business          Robbery\n",
      "3    100005             Assault With Weapon          Assault\n",
      "4    100008                      Theft Over       Theft Over\n",
      "5    100009               Robbery - Mugging          Robbery\n",
      "6    100011        Theft Over - Shoplifting       Theft Over\n",
      "7    100026                    B&E W'Intent  Break and Enter\n",
      "8    100035              Aggravated Assault          Assault\n",
      "9    100040             Assault Bodily Harm          Assault\n",
      "10   100042  Assault - Resist/ Prevent Seiz          Assault\n",
      "11   100056                 Robbery - Other          Robbery\n",
      "12   100061             Robbery With Weapon          Robbery\n",
      "13   100065           Assault Peace Officer          Assault\n",
      "14   100072         Robbery - Home Invasion          Robbery\n",
      "15   100091    Unlawfully In Dwelling-House  Break and Enter\n",
      "16   100110              Robbery - Swarming          Robbery\n",
      "17   100129          Robbery - Purse Snatch          Robbery\n",
      "18   100141              Pointing A Firearm          Assault\n",
      "19   100142   Theft From Motor Vehicle Over       Theft Over\n",
      "20   100183  Discharge Firearm - Recklessly          Assault\n",
      "21   100241   Robbery - Financial Institute          Robbery\n",
      "22   100309                  Robbery - Taxi          Robbery\n",
      "23   100549  Use Firearm / Immit Commit Off          Assault\n",
      "24   100552     Administering Noxious Thing          Assault\n",
      "25   100595   Discharge Firearm With Intent          Assault\n",
      "26   100810       Robbery - Delivery Person          Robbery\n",
      "27   100814     Assault - Force/Thrt/Impede          Assault\n",
      "28   100896                         B&E Out  Break and Enter\n",
      "29   101076     Theft From Mail / Bag / Key       Theft Over\n",
      "30   101706     Crim Negligence Bodily Harm          Assault\n",
      "31   101892   Assault Peace Officer Wpn/Cbh          Assault\n",
      "32   102518       Robbery - Vehicle Jacking          Robbery\n",
      "33   102666          Robbery - Armoured Car          Robbery\n",
      "34   104015  Air Gun Or Pistol: Bodily Harm          Assault\n",
      "35   105809        Theft Over - Distraction       Theft Over\n",
      "36   106945    Theft - Misapprop Funds Over       Theft Over\n",
      "37   107947                   Robbery - Atm          Robbery\n",
      "38   110059  Disarming Peace/Public Officer          Assault\n",
      "39   110064   Aggravated Aslt Peace Officer          Assault\n",
      "40   120334  Unlawfully Causing Bodily Harm          Assault\n",
      "41   124583  Aggravated Assault Avails Pros          Assault\n",
      "42   128436         Theft Of Utilities Over       Theft Over\n",
      "43   147659          B&E - To Steal Firearm  Break and Enter\n",
      "44   157000          Theft Of Motor Vehicle       Auto Theft\n",
      "45   164535            Theft Over - Bicycle       Theft Over\n",
      "46   169346  Set/Place Trap/Intend Death/Bh          Assault\n",
      "47   173757  Traps Likely Cause Bodily Harm          Assault\n",
      "48   210264    B&E - M/Veh To Steal Firearm  Break and Enter\n"
     ]
    }
   ],
   "source": [
    "df4 = df[[ \"offence\", \"MCI\"]]\n",
    "df4 = df4.drop_duplicates()\n",
    "df4 = df4.rename_axis('crimeID').reset_index()\n",
    "df4['crimeID'] += 100000\n",
    "df4.to_csv(\"tableCrime.csv\")\n",
    "print(df4)"
   ]
  },
  {
   "cell_type": "code",
   "execution_count": 90,
   "metadata": {
    "scrolled": true
   },
   "outputs": [
    {
     "name": "stdout",
     "output_type": "stream",
     "text": [
      "       event_unique_id  crimeID  locationID  timeID  reportedTimeID Division  \\\n",
      "0       GO-20141756091   100000      300011  600000          600000      D32   \n",
      "1       GO-20141755910   100000      300140  600986          600000      D23   \n",
      "2       GO-20141755910   100000      300140  600986          600000      D23   \n",
      "3       GO-20142996126   100241      300140  600001          600001      D23   \n",
      "4       GO-20142995995   100000      300110  600001          600001      D12   \n",
      "...                ...      ...         ...     ...             ...      ...   \n",
      "206430   GO-2019510013   157000      300059  748581          805949      D31   \n",
      "206431  GO-20191496247   157000      300085  734808          806309      D43   \n",
      "206432  GO-20191496261   157000      300126  741119          806309      D32   \n",
      "206433  GO-20191496261   157000      300126  741119          806309      D32   \n",
      "206434  GO-20191496218   157000      300126  741912          806309      D32   \n",
      "\n",
      "             Long        Lat premisetype  \n",
      "0      -79.450104  43.718735       House  \n",
      "1      -79.581047  43.736351       Other  \n",
      "2      -79.581047  43.736351       Other  \n",
      "3      -79.589233  43.741097  Commercial  \n",
      "4      -79.504250  43.704475     Outside  \n",
      "...           ...        ...         ...  \n",
      "206430 -79.522148  43.730247       House  \n",
      "206431 -79.246758  43.755264     Outside  \n",
      "206432 -79.421677  43.792332       House  \n",
      "206433 -79.421677  43.792332       House  \n",
      "206434 -79.439766  43.792599       Other  \n",
      "\n",
      "[206435 rows x 9 columns]\n"
     ]
    }
   ],
   "source": [
    "df5 = df.merge(df4, on=['offence','MCI'] )\n",
    "df6 = df5.merge(df3, on=[\"Hood_ID\", \"Neighbourhood\"])\n",
    "df7 = df6.merge(df2, on=[\"occurrencehour\", \"occurrenceday\",\"occurrencemonth\", \"occurrenceyear\", \"occurrencedayofweek\"])\n",
    "df13 = df2.copy()\n",
    "df13.rename(columns={'timeID': 'reportedTimeID',\"occurrencehour\":\"reportedhour\",\"occurrenceday\":\"reportedday\",\"occurrencemonth\":\"reportedmonth\",\"occurrenceyear\":\"reportedyear\",\"occurrencedayofweek\":\"reporteddayofweek\"}, inplace=True)\n",
    "df14 = df13.merge(df7, on=[\"reportedhour\", \"reportedday\",\"reportedmonth\", \"reportedyear\", \"reporteddayofweek\"])\n",
    "df14 = df14[['event_unique_id','crimeID','locationID','timeID','reportedTimeID', \"Long\", \"Lat\",\"premisetype\"]]\n",
    "print(df14)\n",
    "df14.to_csv(\"tableEvent.csv\")"
   ]
  },
  {
   "cell_type": "code",
   "execution_count": 5,
   "metadata": {},
   "outputs": [
    {
     "name": "stdout",
     "output_type": "stream",
     "text": [
      "     locationID  Hood_ID                  Neighbourhood Division\n",
      "0        300000      132                       Malvern       D42\n",
      "1        300001       76           Bay Street Corridor       D52\n",
      "2        300002        1        West Humber-Clairville       D23\n",
      "3        300003       47            Don Valley Village       D33\n",
      "4        300004       90                 Junction Area       D11\n",
      "..          ...      ...                            ...      ...\n",
      "224      404110      109            Caledonia-Fairbank       D12\n",
      "225      405320        3  Thistletown-Beaumond Heights       D31\n",
      "226      416423       44               Flemingdon Park       D33\n",
      "227      421705       75         Church-Yonge Corridor       D12\n",
      "228      427148       32           Englemount-Lawrence       D42\n",
      "\n",
      "[229 rows x 4 columns]\n"
     ]
    }
   ],
   "source": [
    "df3['Neighbourhood'] = [i.split('(')[0] for i in df3['Neighbourhood']]\n",
    "df3.to_csv(\"tableNeighbourhood.csv\")\n",
    "print(df3)"
   ]
  },
  {
   "cell_type": "code",
   "execution_count": null,
   "metadata": {},
   "outputs": [],
   "source": []
  },
  {
   "cell_type": "code",
   "execution_count": null,
   "metadata": {},
   "outputs": [],
   "source": []
  },
  {
   "cell_type": "code",
   "execution_count": null,
   "metadata": {},
   "outputs": [],
   "source": []
  },
  {
   "cell_type": "code",
   "execution_count": null,
   "metadata": {},
   "outputs": [],
   "source": []
  }
 ],
 "metadata": {
  "kernelspec": {
   "display_name": "Python 3",
   "language": "python",
   "name": "python3"
  },
  "language_info": {
   "codemirror_mode": {
    "name": "ipython",
    "version": 3
   },
   "file_extension": ".py",
   "mimetype": "text/x-python",
   "name": "python",
   "nbconvert_exporter": "python",
   "pygments_lexer": "ipython3",
   "version": "3.7.4"
  }
 },
 "nbformat": 4,
 "nbformat_minor": 4
}
