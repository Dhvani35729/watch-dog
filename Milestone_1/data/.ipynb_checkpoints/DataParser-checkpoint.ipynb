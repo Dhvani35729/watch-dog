{
 "cells": [
  {
   "cell_type": "code",
   "execution_count": 1,
   "metadata": {},
   "outputs": [],
   "source": [
    "#As seen from the results below, this table is unwieldy and difficult to use for our requirments. \n",
    "#Therefore, this script/notebook contains scripts to convert the source data into a form we like and as described in our reports.\n",
    "#The data we get from this notebook is used to populate our database"
   ]
  },
  {
   "cell_type": "code",
   "execution_count": 2,
   "metadata": {},
   "outputs": [],
   "source": [
    "import pandas as pd\n"
   ]
  },
  {
   "cell_type": "code",
   "execution_count": 3,
   "metadata": {},
   "outputs": [],
   "source": [
    "df = pd.read_csv('data_from_source.csv')"
   ]
  },
  {
   "cell_type": "code",
   "execution_count": 4,
   "metadata": {},
   "outputs": [
    {
     "data": {
      "text/plain": [
       "['X',\n",
       " 'Y',\n",
       " 'Index_',\n",
       " 'event_unique_id',\n",
       " 'occurrencedate',\n",
       " 'reporteddate',\n",
       " 'premisetype',\n",
       " 'ucr_code',\n",
       " 'ucr_ext',\n",
       " 'offence',\n",
       " 'reportedyear',\n",
       " 'reportedmonth',\n",
       " 'reportedday',\n",
       " 'reporteddayofyear',\n",
       " 'reporteddayofweek',\n",
       " 'reportedhour',\n",
       " 'occurrenceyear',\n",
       " 'occurrencemonth',\n",
       " 'occurrenceday',\n",
       " 'occurrencedayofyear',\n",
       " 'occurrencedayofweek',\n",
       " 'occurrencehour',\n",
       " 'MCI',\n",
       " 'Division',\n",
       " 'Hood_ID',\n",
       " 'Neighbourhood',\n",
       " 'Long',\n",
       " 'Lat',\n",
       " 'ObjectId']"
      ]
     },
     "execution_count": 4,
     "metadata": {},
     "output_type": "execute_result"
    }
   ],
   "source": [
    "\n",
    "df.columns.tolist()"
   ]
  },
  {
   "cell_type": "code",
   "execution_count": 5,
   "metadata": {},
   "outputs": [
    {
     "name": "stdout",
     "output_type": "stream",
     "text": [
      "       timeID  occurrencehour  occurrenceday occurrencemonth  occurrenceyear  \\\n",
      "0      600000               1           24.0           March          2014.0   \n",
      "1      600001              16           27.0       September          2014.0   \n",
      "2      600002               6           24.0           March          2014.0   \n",
      "3      600003              15           24.0           March          2014.0   \n",
      "4      600004               2            3.0             May          2014.0   \n",
      "...       ...             ...            ...             ...             ...   \n",
      "49466  806215               6            6.0            June          2019.0   \n",
      "49467  806295               7            6.0          August          2019.0   \n",
      "49468  806345              11           13.0          August          2019.0   \n",
      "49469  806409              23           17.0        December          2019.0   \n",
      "49470  806419               1           23.0        December          2019.0   \n",
      "\n",
      "      occurrencedayofweek  \n",
      "0              Monday      \n",
      "1              Saturday    \n",
      "2              Monday      \n",
      "3              Monday      \n",
      "4              Saturday    \n",
      "...                   ...  \n",
      "49466          Thursday    \n",
      "49467          Tuesday     \n",
      "49468          Tuesday     \n",
      "49469          Tuesday     \n",
      "49470          Monday      \n",
      "\n",
      "[49471 rows x 6 columns]\n"
     ]
    }
   ],
   "source": [
    "df2 = df[[ \"occurrencehour\", \"occurrenceday\",\"occurrencemonth\", \"occurrenceyear\", \"occurrencedayofweek\"]]\n",
    "df2 = df2.drop_duplicates()\n",
    "df\n",
    "\n",
    "\n",
    "df2 = df2.rename_axis('timeID').reset_index()\n",
    "df2['timeID'] += 600000\n",
    "df2.to_csv(\"tableTime.csv\")\n",
    "print(df2)"
   ]
  },
  {
   "cell_type": "code",
   "execution_count": 6,
   "metadata": {},
   "outputs": [
    {
     "name": "stdout",
     "output_type": "stream",
     "text": [
      "     locationID premisetype Division  Hood_ID                 Neighbourhood\n",
      "0        300000  Commercial      D42      132                 Malvern (132)\n",
      "1        300001       Other      D52       76      Bay Street Corridor (76)\n",
      "2        300002  Commercial      D23        1    West Humber-Clairville (1)\n",
      "3        300003   Apartment      D33       47       Don Valley Village (47)\n",
      "4        300004  Commercial      D11       90            Junction Area (90)\n",
      "..          ...         ...      ...      ...                           ...\n",
      "976      459373       House      D23       10       Princess-Rosethorn (10)\n",
      "977      466108       Other      D41       63              The Beaches (63)\n",
      "978      486101     Outside      D53       32      Englemount-Lawrence (32)\n",
      "979      488327  Commercial      D53       32      Englemount-Lawrence (32)\n",
      "980      504398       House      D32       27  York University Heights (27)\n",
      "\n",
      "[981 rows x 5 columns]\n"
     ]
    }
   ],
   "source": [
    "df3 = df[[ \"premisetype\", \"Division\",\"Hood_ID\", \"Neighbourhood\"]]\n",
    "df3 = df3.drop_duplicates()\n",
    "df3 = df3.rename_axis('locationID').reset_index()\n",
    "df3['locationID'] += 300000\n",
    "df3.to_csv(\"tableLocation.csv\")\n",
    "print(df3)"
   ]
  },
  {
   "cell_type": "code",
   "execution_count": 7,
   "metadata": {},
   "outputs": [
    {
     "name": "stdout",
     "output_type": "stream",
     "text": [
      "    crimeID                         offence              MCI\n",
      "0    100000                         Assault          Assault\n",
      "1    100001                             B&E  Break and Enter\n",
      "2    100004              Robbery - Business          Robbery\n",
      "3    100005             Assault With Weapon          Assault\n",
      "4    100008                      Theft Over       Theft Over\n",
      "5    100009               Robbery - Mugging          Robbery\n",
      "6    100011        Theft Over - Shoplifting       Theft Over\n",
      "7    100026                    B&E W'Intent  Break and Enter\n",
      "8    100035              Aggravated Assault          Assault\n",
      "9    100040             Assault Bodily Harm          Assault\n",
      "10   100042  Assault - Resist/ Prevent Seiz          Assault\n",
      "11   100056                 Robbery - Other          Robbery\n",
      "12   100061             Robbery With Weapon          Robbery\n",
      "13   100065           Assault Peace Officer          Assault\n",
      "14   100072         Robbery - Home Invasion          Robbery\n",
      "15   100091    Unlawfully In Dwelling-House  Break and Enter\n",
      "16   100110              Robbery - Swarming          Robbery\n",
      "17   100129          Robbery - Purse Snatch          Robbery\n",
      "18   100141              Pointing A Firearm          Assault\n",
      "19   100142   Theft From Motor Vehicle Over       Theft Over\n",
      "20   100183  Discharge Firearm - Recklessly          Assault\n",
      "21   100241   Robbery - Financial Institute          Robbery\n",
      "22   100309                  Robbery - Taxi          Robbery\n",
      "23   100549  Use Firearm / Immit Commit Off          Assault\n",
      "24   100552     Administering Noxious Thing          Assault\n",
      "25   100595   Discharge Firearm With Intent          Assault\n",
      "26   100810       Robbery - Delivery Person          Robbery\n",
      "27   100814     Assault - Force/Thrt/Impede          Assault\n",
      "28   100896                         B&E Out  Break and Enter\n",
      "29   101076     Theft From Mail / Bag / Key       Theft Over\n",
      "30   101706     Crim Negligence Bodily Harm          Assault\n",
      "31   101892   Assault Peace Officer Wpn/Cbh          Assault\n",
      "32   102518       Robbery - Vehicle Jacking          Robbery\n",
      "33   102666          Robbery - Armoured Car          Robbery\n",
      "34   104015  Air Gun Or Pistol: Bodily Harm          Assault\n",
      "35   105809        Theft Over - Distraction       Theft Over\n",
      "36   106945    Theft - Misapprop Funds Over       Theft Over\n",
      "37   107947                   Robbery - Atm          Robbery\n",
      "38   110059  Disarming Peace/Public Officer          Assault\n",
      "39   110064   Aggravated Aslt Peace Officer          Assault\n",
      "40   120334  Unlawfully Causing Bodily Harm          Assault\n",
      "41   124583  Aggravated Assault Avails Pros          Assault\n",
      "42   128436         Theft Of Utilities Over       Theft Over\n",
      "43   147659          B&E - To Steal Firearm  Break and Enter\n",
      "44   157000          Theft Of Motor Vehicle       Auto Theft\n",
      "45   164535            Theft Over - Bicycle       Theft Over\n",
      "46   169346  Set/Place Trap/Intend Death/Bh          Assault\n",
      "47   173757  Traps Likely Cause Bodily Harm          Assault\n",
      "48   210264    B&E - M/Veh To Steal Firearm  Break and Enter\n"
     ]
    }
   ],
   "source": [
    "df4 = df[[ \"offence\", \"MCI\"]]\n",
    "df4 = df4.drop_duplicates()\n",
    "df4 = df4.rename_axis('crimeID').reset_index()\n",
    "df4['crimeID'] += 100000\n",
    "df4.to_csv(\"tableCrime.csv\")\n",
    "print(df4)"
   ]
  },
  {
   "cell_type": "code",
   "execution_count": 8,
   "metadata": {
    "scrolled": true
   },
   "outputs": [
    {
     "name": "stdout",
     "output_type": "stream",
     "text": [
      "       event_unique_id  crimeID  locationID  timeID       Long        Lat\n",
      "0       GO-20141756319   100000      300000  600000 -79.199081  43.800281\n",
      "1       GO-20141756091   100000      301769  600000 -79.450104  43.718735\n",
      "2       GO-20142096829   100000      300000  601493 -79.238495  43.810398\n",
      "3       GO-20142130177   100000      300031  601493 -79.391907  43.641644\n",
      "4       GO-20142111674   100001      300226  601493 -79.411888  43.713978\n",
      "...                ...      ...         ...     ...        ...        ...\n",
      "206430  GO-20141874977   100005      347389  647389 -79.428360  43.713238\n",
      "206431  GO-20171133616   100005      387525  687525 -79.286575  43.686909\n",
      "206432    GO-201694112   100042      336500  711649 -79.248085  43.736698\n",
      "206433  GO-20143422270   157000      360969  660969 -79.451103  43.671101\n",
      "206434  GO-20171007437   157000      430778  730778 -79.471825  43.633923\n",
      "\n",
      "[206435 rows x 6 columns]\n"
     ]
    }
   ],
   "source": [
    "df5 = df.merge(df4, on=['offence','MCI'] )\n",
    "df6 = df5.merge(df3, on=[\"premisetype\", \"Division\",\"Hood_ID\", \"Neighbourhood\"])\n",
    "df7 = df6.merge(df2, on=[\"occurrencehour\", \"occurrenceday\",\"occurrencemonth\", \"occurrenceyear\", \"occurrencedayofweek\"])\n",
    "df7 = df7[['event_unique_id','crimeID','locationID','timeID', \"Long\", \"Lat\"]]\n",
    "print(df7)\n",
    "df7.to_csv(\"tableEvent.csv\")"
   ]
  },
  {
   "cell_type": "code",
   "execution_count": null,
   "metadata": {},
   "outputs": [],
   "source": []
  },
  {
   "cell_type": "code",
   "execution_count": null,
   "metadata": {},
   "outputs": [],
   "source": []
  },
  {
   "cell_type": "code",
   "execution_count": null,
   "metadata": {},
   "outputs": [],
   "source": []
  },
  {
   "cell_type": "code",
   "execution_count": null,
   "metadata": {},
   "outputs": [],
   "source": []
  },
  {
   "cell_type": "code",
   "execution_count": null,
   "metadata": {},
   "outputs": [],
   "source": []
  }
 ],
 "metadata": {
  "kernelspec": {
   "display_name": "Python 3",
   "language": "python",
   "name": "python3"
  },
  "language_info": {
   "codemirror_mode": {
    "name": "ipython",
    "version": 3
   },
   "file_extension": ".py",
   "mimetype": "text/x-python",
   "name": "python",
   "nbconvert_exporter": "python",
   "pygments_lexer": "ipython3",
   "version": "3.7.4"
  }
 },
 "nbformat": 4,
 "nbformat_minor": 4
}
